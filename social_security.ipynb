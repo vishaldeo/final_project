{
 "cells": [
  {
   "cell_type": "code",
   "execution_count": 1,
   "id": "b11ffee0",
   "metadata": {},
   "outputs": [],
   "source": [
    "# Dependencies and Setup\n",
    "import pandas as pd\n",
    "import numpy as np\n",
    "import matplotlib.pyplot as plt\n",
    "from statsmodels.tsa.stattools import adfuller\n",
    "# Dependencies for best fit\n",
    "from pmdarima import auto_arima\n",
    "# Ignore harmless warnings \n",
    "import warnings\n",
    "warnings.filterwarnings(\"ignore\")\n",
    "# Dependencies for SARIMA MOdel\n",
    "from statsmodels.tsa.seasonal import seasonal_decompose\n",
    "from statsmodels.tsa.statespace.sarimax import SARIMAX\n",
    "# Dependencies for Mean Square Error\n",
    "from sklearn.metrics import mean_squared_error\n",
    "from math import sqrt\n",
    "from statsmodels.tsa.arima.model import ARIMA"
   ]
  },
  {
   "cell_type": "code",
   "execution_count": 2,
   "id": "6cf41acb",
   "metadata": {},
   "outputs": [],
   "source": [
    "ss_df =  pd.read_csv(\"Resources//Data//Social_data.csv\", index_col= \"year\",  parse_dates = True)"
   ]
  },
  {
   "cell_type": "code",
   "execution_count": 3,
   "id": "2bbadc2a",
   "metadata": {},
   "outputs": [
    {
     "data": {
      "text/html": [
       "<div>\n",
       "<style scoped>\n",
       "    .dataframe tbody tr th:only-of-type {\n",
       "        vertical-align: middle;\n",
       "    }\n",
       "\n",
       "    .dataframe tbody tr th {\n",
       "        vertical-align: top;\n",
       "    }\n",
       "\n",
       "    .dataframe thead th {\n",
       "        text-align: right;\n",
       "    }\n",
       "</style>\n",
       "<table border=\"1\" class=\"dataframe\">\n",
       "  <thead>\n",
       "    <tr style=\"text-align: right;\">\n",
       "      <th></th>\n",
       "      <th>ss_amount</th>\n",
       "    </tr>\n",
       "    <tr>\n",
       "      <th>year</th>\n",
       "      <th></th>\n",
       "    </tr>\n",
       "  </thead>\n",
       "  <tbody>\n",
       "    <tr>\n",
       "      <th>1940-01-01</th>\n",
       "      <td>22.71</td>\n",
       "    </tr>\n",
       "    <tr>\n",
       "      <th>1945-01-01</th>\n",
       "      <td>25.11</td>\n",
       "    </tr>\n",
       "    <tr>\n",
       "      <th>1950-01-01</th>\n",
       "      <td>43.86</td>\n",
       "    </tr>\n",
       "    <tr>\n",
       "      <th>1951-01-01</th>\n",
       "      <td>42.14</td>\n",
       "    </tr>\n",
       "    <tr>\n",
       "      <th>1952-01-01</th>\n",
       "      <td>49.25</td>\n",
       "    </tr>\n",
       "  </tbody>\n",
       "</table>\n",
       "</div>"
      ],
      "text/plain": [
       "            ss_amount\n",
       "year                 \n",
       "1940-01-01      22.71\n",
       "1945-01-01      25.11\n",
       "1950-01-01      43.86\n",
       "1951-01-01      42.14\n",
       "1952-01-01      49.25"
      ]
     },
     "execution_count": 3,
     "metadata": {},
     "output_type": "execute_result"
    }
   ],
   "source": [
    "# Data frame for Social Security File\n",
    "ss_df.head()"
   ]
  },
  {
   "cell_type": "code",
   "execution_count": 4,
   "id": "b47fdcc3",
   "metadata": {},
   "outputs": [
    {
     "name": "stdout",
     "output_type": "stream",
     "text": [
      "(75, 1)\n",
      "(60, 1) (15, 1)\n"
     ]
    }
   ],
   "source": [
    "# Creating train test split\n",
    "print(ss_df.shape)\n",
    "train=ss_df.iloc[:-15]\n",
    "test=ss_df.iloc[-15:]\n",
    "print(train.shape,test.shape)"
   ]
  },
  {
   "cell_type": "code",
   "execution_count": 5,
   "id": "6d2fefd5",
   "metadata": {},
   "outputs": [
    {
     "name": "stdout",
     "output_type": "stream",
     "text": [
      "Performing stepwise search to minimize aic\n",
      " ARIMA(2,2,2)(0,0,0)[0]             : AIC=614.851, Time=0.10 sec\n",
      " ARIMA(0,2,0)(0,0,0)[0]             : AIC=635.964, Time=0.01 sec\n",
      " ARIMA(1,2,0)(0,0,0)[0]             : AIC=624.088, Time=0.03 sec\n",
      " ARIMA(0,2,1)(0,0,0)[0]             : AIC=609.461, Time=0.02 sec\n",
      " ARIMA(1,2,1)(0,0,0)[0]             : AIC=611.460, Time=0.04 sec\n",
      " ARIMA(0,2,2)(0,0,0)[0]             : AIC=611.459, Time=0.03 sec\n",
      " ARIMA(1,2,2)(0,0,0)[0]             : AIC=613.461, Time=0.04 sec\n",
      " ARIMA(0,2,1)(0,0,0)[0] intercept   : AIC=inf, Time=0.06 sec\n",
      "\n",
      "Best model:  ARIMA(0,2,1)(0,0,0)[0]          \n",
      "Total fit time: 0.323 seconds\n"
     ]
    },
    {
     "data": {
      "text/plain": [
       "(0, 2, 1)"
      ]
     },
     "execution_count": 5,
     "metadata": {},
     "output_type": "execute_result"
    }
   ],
   "source": [
    "# Figure auto the best order for model\n",
    "stepwise_fit = auto_arima(ss_df[\"ss_amount\"], trace=True, seasonal=True,supress_warnings=True)\n",
    "#stepwise_fit.summary()\n",
    "stepwise_fit.get_params()[\"order\"]\n",
    "# stepwise_fit.summary()"
   ]
  },
  {
   "cell_type": "code",
   "execution_count": 6,
   "id": "63592741",
   "metadata": {},
   "outputs": [],
   "source": [
    "# SARIMA Model \n",
    "model=SARIMAX(train[\"ss_amount\"],order=(0,2,1), seasonal_order=(1,1,1,12))\n",
    "# ARIMA Model\n",
    "# model=ARIMA(train[\"ss_amount\"],order=(0,2,0))\n",
    "model=model.fit()"
   ]
  },
  {
   "cell_type": "code",
   "execution_count": 7,
   "id": "ee3013f6",
   "metadata": {},
   "outputs": [
    {
     "name": "stdout",
     "output_type": "stream",
     "text": [
      "year\n",
      "2008-01-01    1115.363587\n",
      "2009-01-01    1148.203047\n",
      "2010-01-01    1173.257227\n",
      "2011-01-01    1208.991314\n",
      "2012-01-01    1249.947537\n",
      "2013-01-01    1290.137844\n",
      "2014-01-01    1329.513012\n",
      "2015-01-01    1369.290226\n",
      "2016-01-01    1413.278999\n",
      "2017-01-01    1459.865125\n",
      "2018-01-01    1505.023415\n",
      "2019-01-01    1545.069645\n",
      "2020-01-01    1587.788655\n",
      "2021-01-01    1628.632555\n",
      "2022-01-01    1657.603461\n",
      "Name: predicted_mean, dtype: float64\n"
     ]
    }
   ],
   "source": [
    "# Runing the model for testing prediction\n",
    "start=len(train)\n",
    "end=len(train)+len(test)-1\n",
    "pred=model.predict(start=start,end=end,type=\"levels\")\n",
    "#print(pred)\n",
    "pred.index=ss_df.index[start:end+1] # To set the date value as an index\n",
    "print(pred)"
   ]
  },
  {
   "cell_type": "code",
   "execution_count": 8,
   "id": "0e1d09e3",
   "metadata": {},
   "outputs": [
    {
     "data": {
      "text/plain": [
       "<AxesSubplot:xlabel='year'>"
      ]
     },
     "execution_count": 8,
     "metadata": {},
     "output_type": "execute_result"
    },
    {
     "data": {
      "image/png": "[encoded data removed]",
      "text/plain": [
       "<Figure size 640x480 with 1 Axes>"
      ]
     },
     "metadata": {},
     "output_type": "display_data"
    }
   ],
   "source": [
    "# print the prediction \n",
    "pred.plot(legend=True)\n",
    "test[\"ss_amount\"].plot(legend=True)"
   ]
  },
  {
   "cell_type": "code",
   "execution_count": 9,
   "id": "0928fc02",
   "metadata": {},
   "outputs": [
    {
     "name": "stdout",
     "output_type": "stream",
     "text": [
      "53.26369678047879\n"
     ]
    }
   ],
   "source": [
    "#Mean Square Error \n",
    "rmse=sqrt(mean_squared_error(pred,test[\"ss_amount\"]))\n",
    "print(rmse)"
   ]
  },
  {
   "cell_type": "code",
   "execution_count": 10,
   "id": "ed934629",
   "metadata": {},
   "outputs": [
    {
     "data": {
      "text/html": [
       "<div>\n",
       "<style scoped>\n",
       "    .dataframe tbody tr th:only-of-type {\n",
       "        vertical-align: middle;\n",
       "    }\n",
       "\n",
       "    .dataframe tbody tr th {\n",
       "        vertical-align: top;\n",
       "    }\n",
       "\n",
       "    .dataframe thead th {\n",
       "        text-align: right;\n",
       "    }\n",
       "</style>\n",
       "<table border=\"1\" class=\"dataframe\">\n",
       "  <thead>\n",
       "    <tr style=\"text-align: right;\">\n",
       "      <th></th>\n",
       "      <th>ss_amount</th>\n",
       "    </tr>\n",
       "    <tr>\n",
       "      <th>year</th>\n",
       "      <th></th>\n",
       "    </tr>\n",
       "  </thead>\n",
       "  <tbody>\n",
       "    <tr>\n",
       "      <th>2018-01-01</th>\n",
       "      <td>1461.31</td>\n",
       "    </tr>\n",
       "    <tr>\n",
       "      <th>2019-01-01</th>\n",
       "      <td>1455.22</td>\n",
       "    </tr>\n",
       "    <tr>\n",
       "      <th>2020-01-01</th>\n",
       "      <td>1489.30</td>\n",
       "    </tr>\n",
       "    <tr>\n",
       "      <th>2021-01-01</th>\n",
       "      <td>1517.98</td>\n",
       "    </tr>\n",
       "    <tr>\n",
       "      <th>2022-01-01</th>\n",
       "      <td>1615.96</td>\n",
       "    </tr>\n",
       "  </tbody>\n",
       "</table>\n",
       "</div>"
      ],
      "text/plain": [
       "            ss_amount\n",
       "year                 \n",
       "2018-01-01    1461.31\n",
       "2019-01-01    1455.22\n",
       "2020-01-01    1489.30\n",
       "2021-01-01    1517.98\n",
       "2022-01-01    1615.96"
      ]
     },
     "execution_count": 10,
     "metadata": {},
     "output_type": "execute_result"
    }
   ],
   "source": [
    "# Setting the whole dataset for trainning and looking for the end dates \n",
    "model2=SARIMAX(ss_df[\"ss_amount\"],order=(0,2,1),seasonal_order=(1,1,1,12))\n",
    "model2=model2.fit()\n",
    "ss_df.tail()"
   ]
  },
  {
   "cell_type": "code",
   "execution_count": 11,
   "id": "5ce27a92",
   "metadata": {},
   "outputs": [
    {
     "name": "stdout",
     "output_type": "stream",
     "text": [
      "2023-12-31    1657.423711\n",
      "2024-12-31    1700.589831\n",
      "2025-12-31    1743.100952\n",
      "2026-12-31    1785.592864\n",
      "Freq: A-DEC, Name: ss_amount, dtype: float64\n"
     ]
    }
   ],
   "source": [
    "# printing values for future date \n",
    "# To set date range if not appears\n",
    "\n",
    "index_future_dates= pd.date_range(start=\"2023\", end=\"2027\", freq = 'y')\n",
    "pred = model2.predict(start=len(ss_df),end=len(ss_df)+3,type=\"levels\").rename(\"ss_amount\")\n",
    "pred.index =index_future_dates\n",
    "print(pred)"
   ]
  },
  {
   "cell_type": "code",
   "execution_count": 12,
   "id": "05e486c2",
   "metadata": {},
   "outputs": [
    {
     "data": {
      "text/html": [
       "<div>\n",
       "<style scoped>\n",
       "    .dataframe tbody tr th:only-of-type {\n",
       "        vertical-align: middle;\n",
       "    }\n",
       "\n",
       "    .dataframe tbody tr th {\n",
       "        vertical-align: top;\n",
       "    }\n",
       "\n",
       "    .dataframe thead th {\n",
       "        text-align: right;\n",
       "    }\n",
       "</style>\n",
       "<table border=\"1\" class=\"dataframe\">\n",
       "  <thead>\n",
       "    <tr style=\"text-align: right;\">\n",
       "      <th></th>\n",
       "      <th>ss_amount</th>\n",
       "    </tr>\n",
       "    <tr>\n",
       "      <th>year</th>\n",
       "      <th></th>\n",
       "    </tr>\n",
       "  </thead>\n",
       "  <tbody>\n",
       "    <tr>\n",
       "      <th>2023-12-31</th>\n",
       "      <td>1657.0</td>\n",
       "    </tr>\n",
       "    <tr>\n",
       "      <th>2024-12-31</th>\n",
       "      <td>1701.0</td>\n",
       "    </tr>\n",
       "    <tr>\n",
       "      <th>2025-12-31</th>\n",
       "      <td>1743.0</td>\n",
       "    </tr>\n",
       "    <tr>\n",
       "      <th>2026-12-31</th>\n",
       "      <td>1786.0</td>\n",
       "    </tr>\n",
       "  </tbody>\n",
       "</table>\n",
       "</div>"
      ],
      "text/plain": [
       "            ss_amount\n",
       "year                 \n",
       "2023-12-31     1657.0\n",
       "2024-12-31     1701.0\n",
       "2025-12-31     1743.0\n",
       "2026-12-31     1786.0"
      ]
     },
     "execution_count": 12,
     "metadata": {},
     "output_type": "execute_result"
    }
   ],
   "source": [
    "# Converting future prediction to dataframe\n",
    "df  = pd.DataFrame(pred)\n",
    "df.index.rename(\"year\", inplace=True)\n",
    "future_df = df.round()\n",
    "future_df"
   ]
  },
  {
   "cell_type": "code",
   "execution_count": 13,
   "id": "ea25a664",
   "metadata": {},
   "outputs": [],
   "source": [
    "# Storing the data to csv \n",
    "file = future_df.to_csv(\"Resources//Data//predicted_socialscurity_data.csv\")"
   ]
  },
  {
   "cell_type": "code",
   "execution_count": null,
   "id": "774d17ac",
   "metadata": {},
   "outputs": [],
   "source": []
  },
  {
   "cell_type": "code",
   "execution_count": null,
   "id": "fe5c4415",
   "metadata": {},
   "outputs": [],
   "source": []
  }
 ],
 "metadata": {
  "kernelspec": {
   "display_name": "mlenv",
   "language": "python",
   "name": "mlenv"
  },
  "language_info": {
   "codemirror_mode": {
    "name": "ipython",
    "version": 3
   },
   "file_extension": ".py",
   "mimetype": "text/x-python",
   "name": "python",
   "nbconvert_exporter": "python",
   "pygments_lexer": "ipython3",
   "version": "3.7.15"
  }
 },
 "nbformat": 4,
 "nbformat_minor": 5
}
