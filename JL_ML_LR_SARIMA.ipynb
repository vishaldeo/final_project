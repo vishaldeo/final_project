{
 "cells": [
  {
   "cell_type": "code",
   "execution_count": 1,
   "id": "339b6d37",
   "metadata": {},
   "outputs": [],
   "source": [
    "import pandas as pd\n",
    "from pathlib import Path\n",
    "import matplotlib.pyplot as plt\n",
    "from sklearn.linear_model import LinearRegression"
   ]
  },
  {
   "cell_type": "code",
   "execution_count": 2,
   "id": "0ca4727b",
   "metadata": {},
   "outputs": [],
   "source": [
    "data = pd.read_csv('ZORI.csv', parse_dates=['2022-01-31', '2022-02-28', '2022-03-31','2022-04-30', '2022-05-31', '2022-06-30', '2022-07-31', '2022-08-31', '2022-09-30', '2022-10-31', '2022-11-30'], index_col='Zip Code')"
   ]
  },
  {
   "cell_type": "code",
   "execution_count": 3,
   "id": "e77882ba",
   "metadata": {},
   "outputs": [
    {
     "ename": "AttributeError",
     "evalue": "'function' object has no attribute 'set_index'",
     "output_type": "error",
     "traceback": [
      "\u001b[0;31m---------------------------------------------------------------------------\u001b[0m",
      "\u001b[0;31mAttributeError\u001b[0m                            Traceback (most recent call last)",
      "\u001b[0;32m/var/folders/nl/47svtqjd2qn1b05wjc9w4jyc0000gn/T/ipykernel_36206/2548687932.py\u001b[0m in \u001b[0;36m<module>\u001b[0;34m\u001b[0m\n\u001b[1;32m      1\u001b[0m \u001b[0mdf_ZORI\u001b[0m \u001b[0;34m=\u001b[0m \u001b[0mpd\u001b[0m\u001b[0;34m.\u001b[0m\u001b[0mread_csv\u001b[0m\u001b[0;34m\u001b[0m\u001b[0;34m\u001b[0m\u001b[0m\n\u001b[0;32m----> 2\u001b[0;31m \u001b[0mdf_ZORI\u001b[0m \u001b[0;34m=\u001b[0m \u001b[0mdf_ZORI\u001b[0m\u001b[0;34m.\u001b[0m\u001b[0mset_index\u001b[0m\u001b[0;34m(\u001b[0m\u001b[0;34m'Zip Code'\u001b[0m\u001b[0;34m)\u001b[0m\u001b[0;34m\u001b[0m\u001b[0;34m\u001b[0m\u001b[0m\n\u001b[0m",
      "\u001b[0;31mAttributeError\u001b[0m: 'function' object has no attribute 'set_index'"
     ]
    }
   ],
   "source": [
    "df_ZORI = pd.read_csv\n",
    "df_ZORI = df_ZORI.set_index('Zip Code')"
   ]
  },
  {
   "cell_type": "code",
   "execution_count": null,
   "id": "c0330a9a",
   "metadata": {},
   "outputs": [],
   "source": [
    "\n",
    "value = data.columns['2022-01-31', '2022-02-28', '2022-03-31','2022-04-30', '2022-05-31', '2022-06-30', '2022-07-31', '2022-08-31', '2022-09-30', '2022-10-31', '2022-11-30']"
   ]
  },
  {
   "cell_type": "code",
   "execution_count": null,
   "id": "f29ed666",
   "metadata": {},
   "outputs": [],
   "source": [
    "# Compute Seasonal Index\n",
    "from statsmodels.tsa.seasonal import seasonal_decompose\n",
    "from dateutil.parser import parse\n"
   ]
  },
  {
   "cell_type": "code",
   "execution_count": null,
   "id": "c609cc95",
   "metadata": {},
   "outputs": [],
   "source": [
    "# multiplicative seasonal component\n",
    "result_mul = seasonal_decompose(data[value][-11:],   # 11 months\n",
    "                                model='multiplicative', \n",
    "                                extrapolate_trend='freq')"
   ]
  },
  {
   "cell_type": "code",
   "execution_count": null,
   "id": "ee34af8b",
   "metadata": {},
   "outputs": [],
   "source": [
    "seasonal_index = result_mul.seasonal[-12:].to_frame()\n",
    "seasonal_index['month'] = pd.to_datetime(seasonal_index.index).month"
   ]
  },
  {
   "cell_type": "code",
   "execution_count": null,
   "id": "a76a9f65",
   "metadata": {},
   "outputs": [],
   "source": [
    "# merge with the base data\n",
    "data['month'] = data.index.month\n",
    "df = pd.merge(data, seasonal_index, how='left', on='month')\n",
    "df.columns = ['value', 'month', 'seasonal_index']\n",
    "df.index = data.index  # reassign the index."
   ]
  },
  {
   "cell_type": "code",
   "execution_count": null,
   "id": "c56c1f1d",
   "metadata": {},
   "outputs": [],
   "source": [
    "import pmdarima as pm\n",
    "\n",
    "# SARIMAX Model\n",
    "sxmodel = pm.auto_arima(df[['value']], exogenous=df[['seasonal_index']],\n",
    "                           start_p=1, start_q=1,\n",
    "                           test='adf',\n",
    "                           max_p=3, max_q=3, m=12,\n",
    "                           start_P=0, seasonal=True,\n",
    "                           d=None, D=1, trace=True,\n",
    "                           error_action='ignore',  \n",
    "                           suppress_warnings=True, \n",
    "                           stepwise=True)\n",
    "\n",
    "sxmodel.summary()\n"
   ]
  },
  {
   "cell_type": "code",
   "execution_count": null,
   "id": "c0bbd98c",
   "metadata": {},
   "outputs": [],
   "source": [
    "# Forecast\n",
    "n_periods = 24\n",
    "fitted, confint = sxmodel.predict(n_periods=n_periods, \n",
    "                                  exogenous=np.tile(seasonal_index.value, 2).reshape(-1,1), \n",
    "                                  return_conf_int=True)\n",
    "\n",
    "index_of_fc = pd.date_range(data.index[-1], periods = n_periods, freq='MS')"
   ]
  },
  {
   "cell_type": "code",
   "execution_count": null,
   "id": "7a6a9806",
   "metadata": {},
   "outputs": [],
   "source": [
    "# make series for plotting purpose\n",
    "fitted_series = pd.Series(fitted, index=index_of_fc)\n",
    "lower_series = pd.Series(confint[:, 0], index=index_of_fc)\n",
    "upper_series = pd.Series(confint[:, 1], index=index_of_fc)"
   ]
  },
  {
   "cell_type": "code",
   "execution_count": null,
   "id": "a96e30ee",
   "metadata": {},
   "outputs": [],
   "source": [
    "# Plot\n",
    "plt.plot(data['value'])\n",
    "plt.plot(fitted_series, color='darkgreen')\n",
    "plt.fill_between(lower_series.index, \n",
    "                 lower_series, \n",
    "                 upper_series, \n",
    "                 color='k', alpha=.15)\n"
   ]
  },
  {
   "cell_type": "code",
   "execution_count": null,
   "id": "21e0a6ac",
   "metadata": {},
   "outputs": [],
   "source": [
    "plt.title(\"SARIMAX Forecast of a10 - Drug Sales\")\n",
    "plt.show()"
   ]
  }
 ],
 "metadata": {
  "kernelspec": {
   "display_name": "Python 3 (ipykernel)",
   "language": "python",
   "name": "python3"
  },
  "language_info": {
   "codemirror_mode": {
    "name": "ipython",
    "version": 3
   },
   "file_extension": ".py",
   "mimetype": "text/x-python",
   "name": "python",
   "nbconvert_exporter": "python",
   "pygments_lexer": "ipython3",
   "version": "3.7.13"
  }
 },
 "nbformat": 4,
 "nbformat_minor": 5
}
