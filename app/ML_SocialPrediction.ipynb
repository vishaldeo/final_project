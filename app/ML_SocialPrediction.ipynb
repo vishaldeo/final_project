{
 "cells": [
  {
   "cell_type": "code",
   "execution_count": 1,
   "id": "b11ffee0",
   "metadata": {},
   "outputs": [],
   "source": [
    "# Dependencies and Setup\n",
    "import pandas as pd\n",
    "import numpy as np\n",
    "import matplotlib.pyplot as plt\n",
    "from statsmodels.tsa.stattools import adfuller\n",
    "# Dependencies for best fit\n",
    "from pmdarima import auto_arima\n",
    "# Ignore harmless warnings \n",
    "import warnings\n",
    "warnings.filterwarnings(\"ignore\")\n",
    "# Dependencies for SARIMA MOdel\n",
    "from statsmodels.tsa.seasonal import seasonal_decompose\n",
    "from statsmodels.tsa.statespace.sarimax import SARIMAX\n",
    "# Dependencies for Mean Square Error\n",
    "from sklearn.metrics import mean_squared_error\n",
    "from math import sqrt\n",
    "from statsmodels.tsa.arima.model import ARIMA"
   ]
  },
  {
   "cell_type": "code",
   "execution_count": 2,
   "id": "6cf41acb",
   "metadata": {},
   "outputs": [],
   "source": [
    "ss_df =  pd.read_csv(\"Resources/Data/Social_data.csv\", index_col= \"year\",  parse_dates = True)"
   ]
  },
  {
   "cell_type": "code",
   "execution_count": 3,
   "id": "2bbadc2a",
   "metadata": {},
   "outputs": [
    {
     "data": {
      "text/html": [
       "<div>\n",
       "<style scoped>\n",
       "    .dataframe tbody tr th:only-of-type {\n",
       "        vertical-align: middle;\n",
       "    }\n",
       "\n",
       "    .dataframe tbody tr th {\n",
       "        vertical-align: top;\n",
       "    }\n",
       "\n",
       "    .dataframe thead th {\n",
       "        text-align: right;\n",
       "    }\n",
       "</style>\n",
       "<table border=\"1\" class=\"dataframe\">\n",
       "  <thead>\n",
       "    <tr style=\"text-align: right;\">\n",
       "      <th></th>\n",
       "      <th>ss_amount</th>\n",
       "    </tr>\n",
       "    <tr>\n",
       "      <th>year</th>\n",
       "      <th></th>\n",
       "    </tr>\n",
       "  </thead>\n",
       "  <tbody>\n",
       "    <tr>\n",
       "      <th>1940-01-01</th>\n",
       "      <td>22.71</td>\n",
       "    </tr>\n",
       "    <tr>\n",
       "      <th>1945-01-01</th>\n",
       "      <td>25.11</td>\n",
       "    </tr>\n",
       "    <tr>\n",
       "      <th>1950-01-01</th>\n",
       "      <td>43.86</td>\n",
       "    </tr>\n",
       "    <tr>\n",
       "      <th>1951-01-01</th>\n",
       "      <td>42.14</td>\n",
       "    </tr>\n",
       "    <tr>\n",
       "      <th>1952-01-01</th>\n",
       "      <td>49.25</td>\n",
       "    </tr>\n",
       "  </tbody>\n",
       "</table>\n",
       "</div>"
      ],
      "text/plain": [
       "            ss_amount\n",
       "year                 \n",
       "1940-01-01      22.71\n",
       "1945-01-01      25.11\n",
       "1950-01-01      43.86\n",
       "1951-01-01      42.14\n",
       "1952-01-01      49.25"
      ]
     },
     "execution_count": 3,
     "metadata": {},
     "output_type": "execute_result"
    }
   ],
   "source": [
    "# Data frame for Social Security File\n",
    "ss_df.head()"
   ]
  },
  {
   "cell_type": "code",
   "execution_count": 4,
   "id": "a5fcd878",
   "metadata": {},
   "outputs": [],
   "source": [
    "# ss_df= ss_df.reset_index()\n",
    "# ss_df['year']= ss_df['year'].dt.year\n",
    "# # ss_df=ss_df.drop('index') \n",
    "\n",
    "# ss_df.head()"
   ]
  },
  {
   "cell_type": "code",
   "execution_count": 5,
   "id": "b47fdcc3",
   "metadata": {},
   "outputs": [
    {
     "name": "stdout",
     "output_type": "stream",
     "text": [
      "(75, 1)\n",
      "(60, 1) (15, 1)\n"
     ]
    }
   ],
   "source": [
    "# Creating train test split\n",
    "print(ss_df.shape)\n",
    "train=ss_df.iloc[:-15]\n",
    "test=ss_df.iloc[-15:]\n",
    "print(train.shape,test.shape)"
   ]
  },
  {
   "cell_type": "code",
   "execution_count": 6,
   "id": "6d2fefd5",
   "metadata": {},
   "outputs": [
    {
     "name": "stdout",
     "output_type": "stream",
     "text": [
      "Performing stepwise search to minimize aic\n",
      " ARIMA(2,2,2)(0,0,0)[0]             : AIC=614.851, Time=0.07 sec\n",
      " ARIMA(0,2,0)(0,0,0)[0]             : AIC=635.964, Time=0.01 sec\n",
      " ARIMA(1,2,0)(0,0,0)[0]             : AIC=624.088, Time=0.02 sec\n",
      " ARIMA(0,2,1)(0,0,0)[0]             : AIC=609.461, Time=0.02 sec\n",
      " ARIMA(1,2,1)(0,0,0)[0]             : AIC=611.460, Time=0.04 sec\n",
      " ARIMA(0,2,2)(0,0,0)[0]             : AIC=611.459, Time=0.03 sec\n",
      " ARIMA(1,2,2)(0,0,0)[0]             : AIC=613.461, Time=0.04 sec\n",
      " ARIMA(0,2,1)(0,0,0)[0] intercept   : AIC=inf, Time=0.06 sec\n",
      "\n",
      "Best model:  ARIMA(0,2,1)(0,0,0)[0]          \n",
      "Total fit time: 0.293 seconds\n"
     ]
    },
    {
     "data": {
      "text/plain": [
       "(0, 2, 1)"
      ]
     },
     "execution_count": 6,
     "metadata": {},
     "output_type": "execute_result"
    }
   ],
   "source": [
    "# Figure auto the best order for model\n",
    "stepwise_fit = auto_arima(ss_df[\"ss_amount\"], trace=True, seasonal=True,supress_warnings=True)\n",
    "#stepwise_fit.summary()\n",
    "stepwise_fit.get_params()[\"order\"]\n",
    "# stepwise_fit.summary()"
   ]
  },
  {
   "cell_type": "code",
   "execution_count": 7,
   "id": "63592741",
   "metadata": {},
   "outputs": [
    {
     "name": "stdout",
     "output_type": "stream",
     "text": [
      "RUNNING THE L-BFGS-B CODE\n",
      "\n",
      "           * * *\n",
      "\n",
      "Machine precision = 2.220D-16\n",
      " N =            4     M =           10\n",
      "\n",
      "At X0         0 variables are exactly at the bounds\n",
      "\n",
      "At iterate    0    f=  3.03478D+00    |proj g|=  2.20105D-01\n",
      "\n",
      "At iterate    5    f=  2.97040D+00    |proj g|=  2.23501D-02\n",
      "\n",
      "At iterate   10    f=  2.94798D+00    |proj g|=  3.74602D-03\n",
      "\n",
      "           * * *\n",
      "\n",
      "Tit   = total number of iterations\n",
      "Tnf   = total number of function evaluations\n",
      "Tnint = total number of segments explored during Cauchy searches\n",
      "Skip  = number of BFGS updates skipped\n",
      "Nact  = number of active bounds at final generalized Cauchy point\n",
      "Projg = norm of the final projected gradient\n",
      "F     = final function value\n",
      "\n",
      "           * * *\n",
      "\n",
      "   N    Tit     Tnf  Tnint  Skip  Nact     Projg        F\n",
      "    4     13     16      1     0     0   5.773D-06   2.948D+00\n",
      "  F =   2.9479306456054570     \n",
      "\n",
      "CONVERGENCE: NORM_OF_PROJECTED_GRADIENT_<=_PGTOL            \n"
     ]
    },
    {
     "name": "stderr",
     "output_type": "stream",
     "text": [
      " This problem is unconstrained.\n"
     ]
    }
   ],
   "source": [
    "# SARIMA Model \n",
    "model=SARIMAX(train[\"ss_amount\"],order=(0,2,1), seasonal_order=(1,1,1,12))\n",
    "# ARIMA Model\n",
    "# model=ARIMA(train[\"ss_amount\"],order=(0,2,0))\n",
    "model=model.fit()"
   ]
  },
  {
   "cell_type": "code",
   "execution_count": 8,
   "id": "ee3013f6",
   "metadata": {},
   "outputs": [
    {
     "name": "stdout",
     "output_type": "stream",
     "text": [
      "year\n",
      "2008-01-01    1115.363600\n",
      "2009-01-01    1148.203087\n",
      "2010-01-01    1173.257276\n",
      "2011-01-01    1208.991359\n",
      "2012-01-01    1249.947613\n",
      "2013-01-01    1290.137915\n",
      "2014-01-01    1329.513045\n",
      "2015-01-01    1369.290254\n",
      "2016-01-01    1413.279044\n",
      "2017-01-01    1459.865214\n",
      "2018-01-01    1505.023543\n",
      "2019-01-01    1545.069802\n",
      "2020-01-01    1587.788848\n",
      "2021-01-01    1628.632756\n",
      "2022-01-01    1657.603732\n",
      "Name: predicted_mean, dtype: float64\n"
     ]
    }
   ],
   "source": [
    "# Runing the model for testing prediction\n",
    "start=len(train)\n",
    "end=len(train)+len(test)-1\n",
    "pred=model.predict(start=start,end=end,type=\"levels\")\n",
    "#print(pred)\n",
    "pred.index=ss_df.index[start:end+1] # To set the date value as an index\n",
    "print(pred)"
   ]
  },
  {
   "cell_type": "code",
   "execution_count": 9,
   "id": "0e1d09e3",
   "metadata": {},
   "outputs": [
    {
     "data": {
      "text/plain": [
       "<AxesSubplot:xlabel='year'>"
      ]
     },
     "execution_count": 9,
     "metadata": {},
     "output_type": "execute_result"
    },
    {
     "data": {
      "image/png": "[encoded data removed]",
      "text/plain": [
       "<Figure size 432x288 with 1 Axes>"
      ]
     },
     "metadata": {
      "needs_background": "light"
     },
     "output_type": "display_data"
    }
   ],
   "source": [
    "# print the prediction \n",
    "pred.plot(legend=True)\n",
    "test[\"ss_amount\"].plot(legend=True)"
   ]
  },
  {
   "cell_type": "code",
   "execution_count": 10,
   "id": "0928fc02",
   "metadata": {},
   "outputs": [
    {
     "name": "stdout",
     "output_type": "stream",
     "text": [
      "53.263793362076754\n"
     ]
    }
   ],
   "source": [
    "#Mean Square Error \n",
    "rmse=sqrt(mean_squared_error(pred,test[\"ss_amount\"]))\n",
    "print(rmse)"
   ]
  },
  {
   "cell_type": "code",
   "execution_count": 11,
   "id": "ed934629",
   "metadata": {},
   "outputs": [
    {
     "name": "stdout",
     "output_type": "stream",
     "text": [
      "RUNNING THE L-BFGS-B CODE\n",
      "\n",
      "           * * *\n",
      "\n",
      "Machine precision = 2.220D-16\n",
      " N =            4     M =           10\n",
      "\n",
      "At X0         0 variables are exactly at the bounds\n",
      "\n",
      "At iterate    0    f=  3.63081D+00    |proj g|=  9.77409D-02\n",
      "\n",
      "At iterate    5    f=  3.55607D+00    |proj g|=  1.41679D-02\n",
      "\n",
      "At iterate   10    f=  3.52172D+00    |proj g|=  7.20996D-04\n",
      "\n",
      "At iterate   15    f=  3.52140D+00    |proj g|=  5.83276D-04\n",
      "\n",
      "At iterate   20    f=  3.52135D+00    |proj g|=  5.10756D-04\n"
     ]
    },
    {
     "name": "stderr",
     "output_type": "stream",
     "text": [
      " This problem is unconstrained.\n"
     ]
    },
    {
     "name": "stdout",
     "output_type": "stream",
     "text": [
      "\n",
      "At iterate   25    f=  3.52134D+00    |proj g|=  1.74909D-04\n",
      "\n",
      "At iterate   30    f=  3.52134D+00    |proj g|=  5.57930D-05\n",
      "\n",
      "           * * *\n",
      "\n",
      "Tit   = total number of iterations\n",
      "Tnf   = total number of function evaluations\n",
      "Tnint = total number of segments explored during Cauchy searches\n",
      "Skip  = number of BFGS updates skipped\n",
      "Nact  = number of active bounds at final generalized Cauchy point\n",
      "Projg = norm of the final projected gradient\n",
      "F     = final function value\n",
      "\n",
      "           * * *\n",
      "\n",
      "   N    Tit     Tnf  Tnint  Skip  Nact     Projg        F\n",
      "    4     31     40      1     0     0   1.061D-04   3.521D+00\n",
      "  F =   3.5213373708108495     \n",
      "\n",
      "CONVERGENCE: REL_REDUCTION_OF_F_<=_FACTR*EPSMCH             \n"
     ]
    },
    {
     "data": {
      "text/html": [
       "<div>\n",
       "<style scoped>\n",
       "    .dataframe tbody tr th:only-of-type {\n",
       "        vertical-align: middle;\n",
       "    }\n",
       "\n",
       "    .dataframe tbody tr th {\n",
       "        vertical-align: top;\n",
       "    }\n",
       "\n",
       "    .dataframe thead th {\n",
       "        text-align: right;\n",
       "    }\n",
       "</style>\n",
       "<table border=\"1\" class=\"dataframe\">\n",
       "  <thead>\n",
       "    <tr style=\"text-align: right;\">\n",
       "      <th></th>\n",
       "      <th>ss_amount</th>\n",
       "    </tr>\n",
       "    <tr>\n",
       "      <th>year</th>\n",
       "      <th></th>\n",
       "    </tr>\n",
       "  </thead>\n",
       "  <tbody>\n",
       "    <tr>\n",
       "      <th>2018-01-01</th>\n",
       "      <td>1461.31</td>\n",
       "    </tr>\n",
       "    <tr>\n",
       "      <th>2019-01-01</th>\n",
       "      <td>1455.22</td>\n",
       "    </tr>\n",
       "    <tr>\n",
       "      <th>2020-01-01</th>\n",
       "      <td>1489.30</td>\n",
       "    </tr>\n",
       "    <tr>\n",
       "      <th>2021-01-01</th>\n",
       "      <td>1517.98</td>\n",
       "    </tr>\n",
       "    <tr>\n",
       "      <th>2022-01-01</th>\n",
       "      <td>1615.96</td>\n",
       "    </tr>\n",
       "  </tbody>\n",
       "</table>\n",
       "</div>"
      ],
      "text/plain": [
       "            ss_amount\n",
       "year                 \n",
       "2018-01-01    1461.31\n",
       "2019-01-01    1455.22\n",
       "2020-01-01    1489.30\n",
       "2021-01-01    1517.98\n",
       "2022-01-01    1615.96"
      ]
     },
     "execution_count": 11,
     "metadata": {},
     "output_type": "execute_result"
    }
   ],
   "source": [
    "# Setting the whole dataset for trainning and looking for the end dates \n",
    "model2=SARIMAX(ss_df[\"ss_amount\"],order=(0,2,1),seasonal_order=(1,1,1,12))\n",
    "model2=model2.fit()\n",
    "ss_df.tail()"
   ]
  },
  {
   "cell_type": "code",
   "execution_count": 12,
   "id": "5ce27a92",
   "metadata": {},
   "outputs": [
    {
     "name": "stdout",
     "output_type": "stream",
     "text": [
      "2023-12-31    1657.424515\n",
      "2024-12-31    1700.590278\n",
      "2025-12-31    1743.101004\n",
      "2026-12-31    1785.592726\n",
      "Freq: A-DEC, Name: ss_amount, dtype: float64\n"
     ]
    }
   ],
   "source": [
    "# printing values for future date \n",
    "# To set date range if not appears\n",
    "\n",
    "index_future_dates= pd.date_range(start=\"2023\", end=\"2027\", freq = 'y')\n",
    "pred = model2.predict(start=len(ss_df),end=len(ss_df)+3,type=\"levels\").rename(\"ss_amount\")\n",
    "pred.index =index_future_dates\n",
    "print(pred)"
   ]
  },
  {
   "cell_type": "code",
   "execution_count": 13,
   "id": "05e486c2",
   "metadata": {},
   "outputs": [
    {
     "data": {
      "text/html": [
       "<div>\n",
       "<style scoped>\n",
       "    .dataframe tbody tr th:only-of-type {\n",
       "        vertical-align: middle;\n",
       "    }\n",
       "\n",
       "    .dataframe tbody tr th {\n",
       "        vertical-align: top;\n",
       "    }\n",
       "\n",
       "    .dataframe thead th {\n",
       "        text-align: right;\n",
       "    }\n",
       "</style>\n",
       "<table border=\"1\" class=\"dataframe\">\n",
       "  <thead>\n",
       "    <tr style=\"text-align: right;\">\n",
       "      <th></th>\n",
       "      <th>ss_amount</th>\n",
       "    </tr>\n",
       "    <tr>\n",
       "      <th>year</th>\n",
       "      <th></th>\n",
       "    </tr>\n",
       "  </thead>\n",
       "  <tbody>\n",
       "    <tr>\n",
       "      <th>2023-12-31</th>\n",
       "      <td>1657.0</td>\n",
       "    </tr>\n",
       "    <tr>\n",
       "      <th>2024-12-31</th>\n",
       "      <td>1701.0</td>\n",
       "    </tr>\n",
       "    <tr>\n",
       "      <th>2025-12-31</th>\n",
       "      <td>1743.0</td>\n",
       "    </tr>\n",
       "    <tr>\n",
       "      <th>2026-12-31</th>\n",
       "      <td>1786.0</td>\n",
       "    </tr>\n",
       "  </tbody>\n",
       "</table>\n",
       "</div>"
      ],
      "text/plain": [
       "            ss_amount\n",
       "year                 \n",
       "2023-12-31     1657.0\n",
       "2024-12-31     1701.0\n",
       "2025-12-31     1743.0\n",
       "2026-12-31     1786.0"
      ]
     },
     "execution_count": 13,
     "metadata": {},
     "output_type": "execute_result"
    }
   ],
   "source": [
    "# Converting future prediction to dataframe\n",
    "df  = pd.DataFrame(pred)\n",
    "df.index.rename(\"year\", inplace=True)\n",
    "future_df = df.round()\n",
    "future_df"
   ]
  },
  {
   "cell_type": "code",
   "execution_count": 14,
   "id": "ea25a664",
   "metadata": {},
   "outputs": [
    {
     "data": {
      "text/html": [
       "<div>\n",
       "<style scoped>\n",
       "    .dataframe tbody tr th:only-of-type {\n",
       "        vertical-align: middle;\n",
       "    }\n",
       "\n",
       "    .dataframe tbody tr th {\n",
       "        vertical-align: top;\n",
       "    }\n",
       "\n",
       "    .dataframe thead th {\n",
       "        text-align: right;\n",
       "    }\n",
       "</style>\n",
       "<table border=\"1\" class=\"dataframe\">\n",
       "  <thead>\n",
       "    <tr style=\"text-align: right;\">\n",
       "      <th></th>\n",
       "      <th>year</th>\n",
       "      <th>ss_amount</th>\n",
       "    </tr>\n",
       "  </thead>\n",
       "  <tbody>\n",
       "    <tr>\n",
       "      <th>0</th>\n",
       "      <td>2023</td>\n",
       "      <td>1657.0</td>\n",
       "    </tr>\n",
       "    <tr>\n",
       "      <th>1</th>\n",
       "      <td>2024</td>\n",
       "      <td>1701.0</td>\n",
       "    </tr>\n",
       "    <tr>\n",
       "      <th>2</th>\n",
       "      <td>2025</td>\n",
       "      <td>1743.0</td>\n",
       "    </tr>\n",
       "    <tr>\n",
       "      <th>3</th>\n",
       "      <td>2026</td>\n",
       "      <td>1786.0</td>\n",
       "    </tr>\n",
       "  </tbody>\n",
       "</table>\n",
       "</div>"
      ],
      "text/plain": [
       "   year  ss_amount\n",
       "0  2023     1657.0\n",
       "1  2024     1701.0\n",
       "2  2025     1743.0\n",
       "3  2026     1786.0"
      ]
     },
     "execution_count": 14,
     "metadata": {},
     "output_type": "execute_result"
    }
   ],
   "source": [
    "future_df= future_df.reset_index()\n",
    "future_df['year']= future_df['year'].dt.year\n",
    "# ss_df=ss_df.drop('index') \n",
    "\n",
    "future_df.head()"
   ]
  },
  {
   "cell_type": "code",
   "execution_count": 15,
   "id": "774d17ac",
   "metadata": {},
   "outputs": [],
   "source": [
    "from sqlalchemy import create_engine\n",
    "from sqlalchemy.engine import URL\n",
    "import psycopg2\n",
    "import yaml\n",
    "import matplotlib.pyplot as plt\n",
    "import numpy as np"
   ]
  },
  {
   "cell_type": "code",
   "execution_count": 16,
   "id": "fe5c4415",
   "metadata": {},
   "outputs": [],
   "source": [
    "with open('config.yaml') as f:\n",
    "    config = yaml.load(f, Loader=yaml.FullLoader)\n",
    "db_string = f\"postgresql://{config['user_name']}:{config['db_password']}@{config['host_info']}/{config['db_name']}\"\n",
    "# Create the engine\n",
    "engine = create_engine(db_string)\n",
    "# Connect to PostgreSQL server\n",
    "\n",
    "dbConnection = engine.connect();"
   ]
  },
  {
   "cell_type": "code",
   "execution_count": 17,
   "id": "1f25ddec",
   "metadata": {},
   "outputs": [
    {
     "data": {
      "text/plain": [
       "4"
      ]
     },
     "execution_count": 17,
     "metadata": {},
     "output_type": "execute_result"
    }
   ],
   "source": [
    "# Load the future Social value in the Database Table.\n",
    "future_df.to_sql(name=\"ss_data_tab\", con=engine,if_exists='append',index=False)\n"
   ]
  },
  {
   "cell_type": "code",
   "execution_count": 18,
   "id": "03fa9ae9",
   "metadata": {},
   "outputs": [],
   "source": [
    "engine.dispose()"
   ]
  },
  {
   "cell_type": "code",
   "execution_count": null,
   "id": "f3545464",
   "metadata": {},
   "outputs": [],
   "source": []
  }
 ],
 "metadata": {
  "kernelspec": {
   "display_name": "mlenv",
   "language": "python",
   "name": "mlenv"
  },
  "language_info": {
   "codemirror_mode": {
    "name": "ipython",
    "version": 3
   },
   "file_extension": ".py",
   "mimetype": "text/x-python",
   "name": "python",
   "nbconvert_exporter": "python",
   "pygments_lexer": "ipython3",
   "version": "3.9.12"
  }
 },
 "nbformat": 4,
 "nbformat_minor": 5
}
