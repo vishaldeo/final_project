{
 "cells": [
  {
   "cell_type": "code",
   "execution_count": 1,
   "id": "f6c29cc9",
   "metadata": {},
   "outputs": [],
   "source": [
    "# Dependencies and Setup\n",
    "import pandas as pd\n",
    "import numpy as np"
   ]
  },
  {
   "cell_type": "code",
   "execution_count": 2,
<<<<<<< HEAD
   "id": "28d4dfa6",
=======
   "id": "d3df2bd0",
>>>>>>> a0abfa6f11ef49808d1b4d1a0e60d252eb3533de
   "metadata": {},
   "outputs": [
    {
     "data": {
      "text/html": [
       "<div>\n",
       "<style scoped>\n",
       "    .dataframe tbody tr th:only-of-type {\n",
       "        vertical-align: middle;\n",
       "    }\n",
       "\n",
       "    .dataframe tbody tr th {\n",
       "        vertical-align: top;\n",
       "    }\n",
       "\n",
       "    .dataframe thead th {\n",
       "        text-align: right;\n",
       "    }\n",
       "</style>\n",
       "<table border=\"1\" class=\"dataframe\">\n",
       "  <thead>\n",
       "    <tr style=\"text-align: right;\">\n",
       "      <th></th>\n",
       "      <th>77449</th>\n",
       "      <th>77494</th>\n",
       "      <th>11385</th>\n",
       "      <th>77084</th>\n",
       "      <th>11109</th>\n",
       "    </tr>\n",
       "    <tr>\n",
       "      <th>Date</th>\n",
       "      <th></th>\n",
       "      <th></th>\n",
       "      <th></th>\n",
       "      <th></th>\n",
       "      <th></th>\n",
       "    </tr>\n",
       "  </thead>\n",
       "  <tbody>\n",
       "    <tr>\n",
       "      <th>2015-03-31</th>\n",
       "      <td>1274.0</td>\n",
       "      <td>1590.0</td>\n",
       "      <td>2182.0</td>\n",
       "      <td>1192.0</td>\n",
       "      <td>2824.0</td>\n",
       "    </tr>\n",
       "    <tr>\n",
       "      <th>2015-04-30</th>\n",
       "      <td>1288.0</td>\n",
       "      <td>1592.0</td>\n",
       "      <td>2223.0</td>\n",
       "      <td>1205.0</td>\n",
       "      <td>2881.0</td>\n",
       "    </tr>\n",
       "    <tr>\n",
       "      <th>2015-05-31</th>\n",
       "      <td>1295.0</td>\n",
       "      <td>1606.0</td>\n",
       "      <td>2249.0</td>\n",
       "      <td>1207.0</td>\n",
       "      <td>2935.0</td>\n",
       "    </tr>\n",
       "    <tr>\n",
       "      <th>2015-06-30</th>\n",
       "      <td>1308.0</td>\n",
       "      <td>1614.0</td>\n",
       "      <td>2272.0</td>\n",
       "      <td>1214.0</td>\n",
       "      <td>2951.0</td>\n",
       "    </tr>\n",
       "    <tr>\n",
       "      <th>2015-07-31</th>\n",
       "      <td>1317.0</td>\n",
       "      <td>1621.0</td>\n",
       "      <td>2281.0</td>\n",
       "      <td>1216.0</td>\n",
       "      <td>2964.0</td>\n",
       "    </tr>\n",
       "    <tr>\n",
       "      <th>...</th>\n",
       "      <td>...</td>\n",
       "      <td>...</td>\n",
       "      <td>...</td>\n",
       "      <td>...</td>\n",
       "      <td>...</td>\n",
       "    </tr>\n",
       "    <tr>\n",
       "      <th>2022-07-31</th>\n",
       "      <td>1812.0</td>\n",
       "      <td>1989.0</td>\n",
       "      <td>3025.0</td>\n",
       "      <td>1685.0</td>\n",
       "      <td>4056.0</td>\n",
       "    </tr>\n",
       "    <tr>\n",
       "      <th>2022-08-31</th>\n",
       "      <td>1855.0</td>\n",
       "      <td>1999.0</td>\n",
       "      <td>3098.0</td>\n",
       "      <td>1667.0</td>\n",
       "      <td>4082.0</td>\n",
       "    </tr>\n",
       "    <tr>\n",
       "      <th>2022-09-30</th>\n",
       "      <td>1852.0</td>\n",
       "      <td>2004.0</td>\n",
       "      <td>3104.0</td>\n",
       "      <td>1651.0</td>\n",
       "      <td>4109.0</td>\n",
       "    </tr>\n",
       "    <tr>\n",
       "      <th>2022-10-31</th>\n",
       "      <td>1830.0</td>\n",
       "      <td>1982.0</td>\n",
       "      <td>3103.0</td>\n",
       "      <td>1636.0</td>\n",
       "      <td>4078.0</td>\n",
       "    </tr>\n",
       "    <tr>\n",
       "      <th>2022-11-30</th>\n",
       "      <td>1795.0</td>\n",
       "      <td>1963.0</td>\n",
       "      <td>3073.0</td>\n",
       "      <td>1652.0</td>\n",
       "      <td>4055.0</td>\n",
       "    </tr>\n",
       "  </tbody>\n",
       "</table>\n",
       "<p>93 rows × 5 columns</p>\n",
       "</div>"
      ],
      "text/plain": [
       "             77449   77494   11385   77084   11109\n",
       "Date                                              \n",
       "2015-03-31  1274.0  1590.0  2182.0  1192.0  2824.0\n",
       "2015-04-30  1288.0  1592.0  2223.0  1205.0  2881.0\n",
       "2015-05-31  1295.0  1606.0  2249.0  1207.0  2935.0\n",
       "2015-06-30  1308.0  1614.0  2272.0  1214.0  2951.0\n",
       "2015-07-31  1317.0  1621.0  2281.0  1216.0  2964.0\n",
       "...            ...     ...     ...     ...     ...\n",
       "2022-07-31  1812.0  1989.0  3025.0  1685.0  4056.0\n",
       "2022-08-31  1855.0  1999.0  3098.0  1667.0  4082.0\n",
       "2022-09-30  1852.0  2004.0  3104.0  1651.0  4109.0\n",
       "2022-10-31  1830.0  1982.0  3103.0  1636.0  4078.0\n",
       "2022-11-30  1795.0  1963.0  3073.0  1652.0  4055.0\n",
       "\n",
       "[93 rows x 5 columns]"
      ]
     },
     "execution_count": 2,
     "metadata": {},
     "output_type": "execute_result"
    }
   ],
   "source": [
    "cleaned_df = pd.read_csv(\"Resources//Data//homerent_cleaneddata_zip.csv\", index_col= \"Date\", parse_dates=True)\n",
    "\n",
    "# Home_price.Newyork=np.ceil(Home_price.Newyork).astype(int)\n",
    "\n",
    "df = cleaned_df\n",
    "df"
   ]
  },
  {
   "cell_type": "code",
   "execution_count": 3,
<<<<<<< HEAD
   "id": "f4ff6fef",
=======
   "id": "aafd8f1b",
>>>>>>> a0abfa6f11ef49808d1b4d1a0e60d252eb3533de
   "metadata": {},
   "outputs": [
    {
     "data": {
      "text/plain": [
       "<AxesSubplot:xlabel='Date'>"
      ]
     },
     "execution_count": 3,
     "metadata": {},
     "output_type": "execute_result"
    },
    {
     "data": {
      "image/png": "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\n",
      "text/plain": [
       "<Figure size 1200x500 with 1 Axes>"
      ]
     },
     "metadata": {},
     "output_type": "display_data"
    }
   ],
   "source": [
    "# cleaned_df1 = cleaned_df[[ \"91940\"]].copy()\n",
    "df[\"77084\"].plot(figsize=(12,5))"
   ]
  },
  {
   "cell_type": "code",
   "execution_count": 4,
   "id": "993027af",
   "metadata": {},
   "outputs": [],
   "source": [
    "# Checking for satisonarity\n",
    "from statsmodels.tsa.stattools import adfuller\n",
    "def ad_test(dataset):\n",
    "    dftest = adfuller(dataset, autolag  = \"AIC\")\n",
    "    print(\"1. ADF :\",dftest[0])\n",
    "    print(\"2. P-Value : \", dftest[1])\n",
    "    print(\"3. Num of Lags : \", dftest[2])\n",
    "    print(\"4. Num of Observations  used for ADF Regression and Critical Values Calulation :\", dftest[3])\n",
    "    print(\"5. Critical values :\")\n",
    "    for key, val in dftest[4].items():\n",
    "        print(\"\\t\", key, \": \", val)\n"
   ]
  },
  {
   "cell_type": "code",
   "execution_count": 5,
<<<<<<< HEAD
   "id": "65c8387c",
=======
   "id": "6a7b01f9",
>>>>>>> a0abfa6f11ef49808d1b4d1a0e60d252eb3533de
   "metadata": {},
   "outputs": [
    {
     "name": "stdout",
     "output_type": "stream",
     "text": [
      "1. ADF : 0.601013807929756\n",
      "2. P-Value :  0.9876405911477324\n",
      "3. Num of Lags :  12\n",
      "4. Num of Observations  used for ADF Regression and Critical Values Calulation : 80\n",
      "5. Critical values :\n",
      "\t 1% :  -3.5148692050781247\n",
      "\t 5% :  -2.8984085156250003\n",
      "\t 10% :  -2.58643890625\n"
     ]
    }
   ],
   "source": [
    "ad_test(df[\"77084\"])"
   ]
  },
  {
   "cell_type": "code",
   "execution_count": 6,
   "id": "d7c68e0e",
   "metadata": {},
   "outputs": [],
   "source": [
    "from pmdarima import auto_arima\n",
    "# Ignore harmless warnings \n",
    "import warnings\n",
    "warnings.filterwarnings(\"ignore\")"
   ]
  },
  {
   "cell_type": "code",
<<<<<<< HEAD
   "execution_count": 31,
=======
   "execution_count": 7,
>>>>>>> a0abfa6f11ef49808d1b4d1a0e60d252eb3533de
   "id": "d7cbf321",
   "metadata": {},
   "outputs": [
    {
     "name": "stdout",
     "output_type": "stream",
     "text": [
      "Performing stepwise search to minimize aic\n",
<<<<<<< HEAD
      " ARIMA(2,1,2)(0,0,0)[0] intercept   : AIC=inf, Time=0.14 sec\n",
      " ARIMA(0,1,0)(0,0,0)[0] intercept   : AIC=866.778, Time=0.01 sec\n",
      " ARIMA(1,1,0)(0,0,0)[0] intercept   : AIC=825.034, Time=0.03 sec\n",
      " ARIMA(0,1,1)(0,0,0)[0] intercept   : AIC=844.930, Time=0.05 sec\n",
      " ARIMA(0,1,0)(0,0,0)[0]             : AIC=876.466, Time=0.02 sec\n",
      " ARIMA(2,1,0)(0,0,0)[0] intercept   : AIC=825.091, Time=0.05 sec\n",
      " ARIMA(1,1,1)(0,0,0)[0] intercept   : AIC=826.084, Time=0.06 sec\n",
      " ARIMA(2,1,1)(0,0,0)[0] intercept   : AIC=819.308, Time=0.11 sec\n",
      " ARIMA(3,1,1)(0,0,0)[0] intercept   : AIC=815.592, Time=0.13 sec\n",
      " ARIMA(3,1,0)(0,0,0)[0] intercept   : AIC=815.923, Time=0.06 sec\n",
      " ARIMA(4,1,1)(0,0,0)[0] intercept   : AIC=815.455, Time=0.10 sec\n",
      " ARIMA(4,1,0)(0,0,0)[0] intercept   : AIC=813.585, Time=0.09 sec\n",
      " ARIMA(5,1,0)(0,0,0)[0] intercept   : AIC=815.205, Time=0.09 sec\n",
      " ARIMA(5,1,1)(0,0,0)[0] intercept   : AIC=816.236, Time=0.16 sec\n",
      " ARIMA(4,1,0)(0,0,0)[0]             : AIC=814.033, Time=0.04 sec\n",
      "\n",
      "Best model:  ARIMA(4,1,0)(0,0,0)[0] intercept\n",
      "Total fit time: 1.172 seconds\n"
=======
      " ARIMA(2,1,2)(0,0,0)[0] intercept   : AIC=inf, Time=0.13 sec\n",
      " ARIMA(0,1,0)(0,0,0)[0] intercept   : AIC=729.684, Time=0.01 sec\n",
      " ARIMA(1,1,0)(0,0,0)[0] intercept   : AIC=706.715, Time=0.04 sec\n",
      " ARIMA(0,1,1)(0,0,0)[0] intercept   : AIC=713.147, Time=0.04 sec\n",
      " ARIMA(0,1,0)(0,0,0)[0]             : AIC=741.357, Time=0.01 sec\n",
      " ARIMA(2,1,0)(0,0,0)[0] intercept   : AIC=708.408, Time=0.06 sec\n",
      " ARIMA(1,1,1)(0,0,0)[0] intercept   : AIC=708.577, Time=0.07 sec\n",
      " ARIMA(2,1,1)(0,0,0)[0] intercept   : AIC=709.019, Time=0.13 sec\n",
      " ARIMA(1,1,0)(0,0,0)[0]             : AIC=709.486, Time=0.03 sec\n",
      "\n",
      "Best model:  ARIMA(1,1,0)(0,0,0)[0] intercept\n",
      "Total fit time: 0.524 seconds\n"
>>>>>>> a0abfa6f11ef49808d1b4d1a0e60d252eb3533de
     ]
    },
    {
     "data": {
      "text/html": [
       "<table class=\"simpletable\">\n",
       "<caption>SARIMAX Results</caption>\n",
       "<tr>\n",
       "  <th>Dep. Variable:</th>           <td>y</td>        <th>  No. Observations:  </th>    <td>93</td>   \n",
       "</tr>\n",
       "<tr>\n",
<<<<<<< HEAD
       "  <th>Model:</th>           <td>SARIMAX(4, 1, 0)</td> <th>  Log Likelihood     </th> <td>-400.792</td>\n",
       "</tr>\n",
       "<tr>\n",
       "  <th>Date:</th>            <td>Thu, 12 Jan 2023</td> <th>  AIC                </th>  <td>813.585</td>\n",
       "</tr>\n",
       "<tr>\n",
       "  <th>Time:</th>                <td>21:11:08</td>     <th>  BIC                </th>  <td>828.715</td>\n",
       "</tr>\n",
       "<tr>\n",
       "  <th>Sample:</th>             <td>03-31-2015</td>    <th>  HQIC               </th>  <td>819.692</td>\n",
=======
       "  <th>Model:</th>           <td>SARIMAX(1, 1, 0)</td> <th>  Log Likelihood     </th> <td>-350.358</td>\n",
       "</tr>\n",
       "<tr>\n",
       "  <th>Date:</th>            <td>Thu, 12 Jan 2023</td> <th>  AIC                </th>  <td>706.715</td>\n",
       "</tr>\n",
       "<tr>\n",
       "  <th>Time:</th>                <td>19:46:29</td>     <th>  BIC                </th>  <td>714.281</td>\n",
       "</tr>\n",
       "<tr>\n",
       "  <th>Sample:</th>             <td>03-31-2015</td>    <th>  HQIC               </th>  <td>709.769</td>\n",
>>>>>>> a0abfa6f11ef49808d1b4d1a0e60d252eb3533de
       "</tr>\n",
       "<tr>\n",
       "  <th></th>                   <td>- 11-30-2022</td>   <th>                     </th>     <td> </td>   \n",
       "</tr>\n",
       "<tr>\n",
       "  <th>Covariance Type:</th>        <td>opg</td>       <th>                     </th>     <td> </td>   \n",
       "</tr>\n",
       "</table>\n",
       "<table class=\"simpletable\">\n",
       "<tr>\n",
       "      <td></td>         <th>coef</th>     <th>std err</th>      <th>z</th>      <th>P>|z|</th>  <th>[0.025</th>    <th>0.975]</th>  \n",
       "</tr>\n",
       "<tr>\n",
<<<<<<< HEAD
       "  <th>intercept</th> <td>    3.3268</td> <td>    2.103</td> <td>    1.582</td> <td> 0.114</td> <td>   -0.796</td> <td>    7.449</td>\n",
       "</tr>\n",
       "<tr>\n",
       "  <th>ar.L1</th>     <td>    0.6512</td> <td>    0.128</td> <td>    5.090</td> <td> 0.000</td> <td>    0.400</td> <td>    0.902</td>\n",
       "</tr>\n",
       "<tr>\n",
       "  <th>ar.L2</th>     <td>    0.2529</td> <td>    0.142</td> <td>    1.778</td> <td> 0.075</td> <td>   -0.026</td> <td>    0.532</td>\n",
       "</tr>\n",
       "<tr>\n",
       "  <th>ar.L3</th>     <td>   -0.4682</td> <td>    0.096</td> <td>   -4.853</td> <td> 0.000</td> <td>   -0.657</td> <td>   -0.279</td>\n",
       "</tr>\n",
       "<tr>\n",
       "  <th>ar.L4</th>     <td>    0.2258</td> <td>    0.114</td> <td>    1.983</td> <td> 0.047</td> <td>    0.003</td> <td>    0.449</td>\n",
       "</tr>\n",
       "<tr>\n",
       "  <th>sigma2</th>    <td>  352.0975</td> <td>   54.504</td> <td>    6.460</td> <td> 0.000</td> <td>  245.272</td> <td>  458.923</td>\n",
=======
       "  <th>intercept</th> <td>    2.6585</td> <td>    1.412</td> <td>    1.883</td> <td> 0.060</td> <td>   -0.109</td> <td>    5.426</td>\n",
       "</tr>\n",
       "<tr>\n",
       "  <th>ar.L1</th>     <td>    0.4878</td> <td>    0.064</td> <td>    7.653</td> <td> 0.000</td> <td>    0.363</td> <td>    0.613</td>\n",
       "</tr>\n",
       "<tr>\n",
       "  <th>sigma2</th>    <td>  118.5986</td> <td>   15.402</td> <td>    7.700</td> <td> 0.000</td> <td>   88.411</td> <td>  148.787</td>\n",
>>>>>>> a0abfa6f11ef49808d1b4d1a0e60d252eb3533de
       "</tr>\n",
       "</table>\n",
       "<table class=\"simpletable\">\n",
       "<tr>\n",
<<<<<<< HEAD
       "  <th>Ljung-Box (L1) (Q):</th>     <td>0.03</td> <th>  Jarque-Bera (JB):  </th> <td>0.43</td> \n",
       "</tr>\n",
       "<tr>\n",
       "  <th>Prob(Q):</th>                <td>0.87</td> <th>  Prob(JB):          </th> <td>0.81</td> \n",
       "</tr>\n",
       "<tr>\n",
       "  <th>Heteroskedasticity (H):</th> <td>1.83</td> <th>  Skew:              </th> <td>-0.15</td>\n",
       "</tr>\n",
       "<tr>\n",
       "  <th>Prob(H) (two-sided):</th>    <td>0.10</td> <th>  Kurtosis:          </th> <td>2.85</td> \n",
=======
       "  <th>Ljung-Box (L1) (Q):</th>     <td>0.08</td> <th>  Jarque-Bera (JB):  </th> <td>2.15</td> \n",
       "</tr>\n",
       "<tr>\n",
       "  <th>Prob(Q):</th>                <td>0.77</td> <th>  Prob(JB):          </th> <td>0.34</td> \n",
       "</tr>\n",
       "<tr>\n",
       "  <th>Heteroskedasticity (H):</th> <td>5.83</td> <th>  Skew:              </th> <td>-0.21</td>\n",
       "</tr>\n",
       "<tr>\n",
       "  <th>Prob(H) (two-sided):</th>    <td>0.00</td> <th>  Kurtosis:          </th> <td>3.62</td> \n",
>>>>>>> a0abfa6f11ef49808d1b4d1a0e60d252eb3533de
       "</tr>\n",
       "</table><br/><br/>Warnings:<br/>[1] Covariance matrix calculated using the outer product of gradients (complex-step)."
      ],
      "text/plain": [
       "<class 'statsmodels.iolib.summary.Summary'>\n",
       "\"\"\"\n",
       "                               SARIMAX Results                                \n",
       "==============================================================================\n",
       "Dep. Variable:                      y   No. Observations:                   93\n",
<<<<<<< HEAD
       "Model:               SARIMAX(4, 1, 0)   Log Likelihood                -400.792\n",
       "Date:                Thu, 12 Jan 2023   AIC                            813.585\n",
       "Time:                        21:11:08   BIC                            828.715\n",
       "Sample:                    03-31-2015   HQIC                           819.692\n",
=======
       "Model:               SARIMAX(1, 1, 0)   Log Likelihood                -350.358\n",
       "Date:                Thu, 12 Jan 2023   AIC                            706.715\n",
       "Time:                        19:46:29   BIC                            714.281\n",
       "Sample:                    03-31-2015   HQIC                           709.769\n",
>>>>>>> a0abfa6f11ef49808d1b4d1a0e60d252eb3533de
       "                         - 11-30-2022                                         \n",
       "Covariance Type:                  opg                                         \n",
       "==============================================================================\n",
       "                 coef    std err          z      P>|z|      [0.025      0.975]\n",
       "------------------------------------------------------------------------------\n",
<<<<<<< HEAD
       "intercept      3.3268      2.103      1.582      0.114      -0.796       7.449\n",
       "ar.L1          0.6512      0.128      5.090      0.000       0.400       0.902\n",
       "ar.L2          0.2529      0.142      1.778      0.075      -0.026       0.532\n",
       "ar.L3         -0.4682      0.096     -4.853      0.000      -0.657      -0.279\n",
       "ar.L4          0.2258      0.114      1.983      0.047       0.003       0.449\n",
       "sigma2       352.0975     54.504      6.460      0.000     245.272     458.923\n",
       "===================================================================================\n",
       "Ljung-Box (L1) (Q):                   0.03   Jarque-Bera (JB):                 0.43\n",
       "Prob(Q):                              0.87   Prob(JB):                         0.81\n",
       "Heteroskedasticity (H):               1.83   Skew:                            -0.15\n",
       "Prob(H) (two-sided):                  0.10   Kurtosis:                         2.85\n",
=======
       "intercept      2.6585      1.412      1.883      0.060      -0.109       5.426\n",
       "ar.L1          0.4878      0.064      7.653      0.000       0.363       0.613\n",
       "sigma2       118.5986     15.402      7.700      0.000      88.411     148.787\n",
       "===================================================================================\n",
       "Ljung-Box (L1) (Q):                   0.08   Jarque-Bera (JB):                 2.15\n",
       "Prob(Q):                              0.77   Prob(JB):                         0.34\n",
       "Heteroskedasticity (H):               5.83   Skew:                            -0.21\n",
       "Prob(H) (two-sided):                  0.00   Kurtosis:                         3.62\n",
>>>>>>> a0abfa6f11ef49808d1b4d1a0e60d252eb3533de
       "===================================================================================\n",
       "\n",
       "Warnings:\n",
       "[1] Covariance matrix calculated using the outer product of gradients (complex-step).\n",
       "\"\"\""
      ]
     },
<<<<<<< HEAD
     "execution_count": 31,
=======
     "execution_count": 7,
>>>>>>> a0abfa6f11ef49808d1b4d1a0e60d252eb3533de
     "metadata": {},
     "output_type": "execute_result"
    }
   ],
   "source": [
<<<<<<< HEAD
    "stepwise_fit = auto_arima(cleaned_df[\"11385\"], trace=True,supress_warnings=True)\n",
=======
    "stepwise_fit = auto_arima(cleaned_df[\"77084\"], trace=True,supress_warnings=True)\n",
>>>>>>> a0abfa6f11ef49808d1b4d1a0e60d252eb3533de
    "stepwise_fit.summary()"
   ]
  },
  {
   "cell_type": "code",
<<<<<<< HEAD
   "execution_count": 34,
   "id": "7706d622",
   "metadata": {},
   "outputs": [
    {
     "data": {
      "text/plain": [
       "(4, 1, 0)"
      ]
     },
     "execution_count": 34,
     "metadata": {},
     "output_type": "execute_result"
    }
   ],
   "source": [
    "stepwise_fit.get_params()[\"order\"]"
   ]
  },
  {
   "cell_type": "code",
=======
>>>>>>> a0abfa6f11ef49808d1b4d1a0e60d252eb3533de
   "execution_count": 8,
   "id": "c7dd6aac",
   "metadata": {},
   "outputs": [],
   "source": [
    "from statsmodels.tsa.seasonal import seasonal_decompose\n",
    "from statsmodels.tsa.statespace.sarimax import SARIMAX"
   ]
  },
  {
   "cell_type": "code",
   "execution_count": 9,
   "id": "bf4f1bd1",
   "metadata": {},
   "outputs": [
    {
     "name": "stdout",
     "output_type": "stream",
     "text": [
      "(93, 5)\n",
      "(73, 5) (20, 5)\n"
     ]
    }
   ],
   "source": [
    "print(df.shape)\n",
    "train=df.iloc[:-20]\n",
    "test=df.iloc[-20:]\n",
    "print(train.shape,test.shape)"
   ]
  },
  {
   "cell_type": "code",
   "execution_count": 10,
   "id": "458ac5dc",
   "metadata": {},
   "outputs": [
    {
     "data": {
      "text/html": [
       "<table class=\"simpletable\">\n",
       "<caption>SARIMAX Results</caption>\n",
       "<tr>\n",
       "  <th>Dep. Variable:</th>                <td>77084</td>              <th>  No. Observations:  </th>    <td>73</td>   \n",
       "</tr>\n",
       "<tr>\n",
       "  <th>Model:</th>           <td>SARIMAX(3, 2, 1)x(1, 1, [], 12)</td> <th>  Log Likelihood     </th> <td>-213.980</td>\n",
       "</tr>\n",
       "<tr>\n",
       "  <th>Date:</th>                   <td>Thu, 12 Jan 2023</td>         <th>  AIC                </th>  <td>439.960</td>\n",
       "</tr>\n",
       "<tr>\n",
       "  <th>Time:</th>                       <td>19:46:29</td>             <th>  BIC                </th>  <td>452.425</td>\n",
       "</tr>\n",
       "<tr>\n",
       "  <th>Sample:</th>                    <td>03-31-2015</td>            <th>  HQIC               </th>  <td>444.826</td>\n",
       "</tr>\n",
       "<tr>\n",
       "  <th></th>                          <td>- 03-31-2021</td>           <th>                     </th>     <td> </td>   \n",
       "</tr>\n",
       "<tr>\n",
       "  <th>Covariance Type:</th>               <td>opg</td>               <th>                     </th>     <td> </td>   \n",
       "</tr>\n",
       "</table>\n",
       "<table class=\"simpletable\">\n",
       "<tr>\n",
       "      <td></td>        <th>coef</th>     <th>std err</th>      <th>z</th>      <th>P>|z|</th>  <th>[0.025</th>    <th>0.975]</th>  \n",
       "</tr>\n",
       "<tr>\n",
       "  <th>ar.L1</th>    <td>    0.1480</td> <td>    0.129</td> <td>    1.149</td> <td> 0.251</td> <td>   -0.104</td> <td>    0.400</td>\n",
       "</tr>\n",
       "<tr>\n",
       "  <th>ar.L2</th>    <td>    0.1987</td> <td>    0.129</td> <td>    1.546</td> <td> 0.122</td> <td>   -0.053</td> <td>    0.451</td>\n",
       "</tr>\n",
       "<tr>\n",
       "  <th>ar.L3</th>    <td>   -0.4302</td> <td>    0.128</td> <td>   -3.356</td> <td> 0.001</td> <td>   -0.681</td> <td>   -0.179</td>\n",
       "</tr>\n",
       "<tr>\n",
       "  <th>ma.L1</th>    <td>   -0.9997</td> <td>   19.781</td> <td>   -0.051</td> <td> 0.960</td> <td>  -39.771</td> <td>   37.771</td>\n",
       "</tr>\n",
       "<tr>\n",
       "  <th>ar.S.L12</th> <td>   -0.4557</td> <td>    0.138</td> <td>   -3.295</td> <td> 0.001</td> <td>   -0.727</td> <td>   -0.185</td>\n",
       "</tr>\n",
       "<tr>\n",
       "  <th>sigma2</th>   <td>   71.8926</td> <td> 1420.353</td> <td>    0.051</td> <td> 0.960</td> <td>-2711.948</td> <td> 2855.733</td>\n",
       "</tr>\n",
       "</table>\n",
       "<table class=\"simpletable\">\n",
       "<tr>\n",
       "  <th>Ljung-Box (L1) (Q):</th>     <td>0.06</td> <th>  Jarque-Bera (JB):  </th> <td>2.04</td> \n",
       "</tr>\n",
       "<tr>\n",
       "  <th>Prob(Q):</th>                <td>0.81</td> <th>  Prob(JB):          </th> <td>0.36</td> \n",
       "</tr>\n",
       "<tr>\n",
       "  <th>Heteroskedasticity (H):</th> <td>1.03</td> <th>  Skew:              </th> <td>-0.40</td>\n",
       "</tr>\n",
       "<tr>\n",
       "  <th>Prob(H) (two-sided):</th>    <td>0.94</td> <th>  Kurtosis:          </th> <td>3.45</td> \n",
       "</tr>\n",
       "</table><br/><br/>Warnings:<br/>[1] Covariance matrix calculated using the outer product of gradients (complex-step)."
      ],
      "text/plain": [
       "<class 'statsmodels.iolib.summary.Summary'>\n",
       "\"\"\"\n",
       "                                      SARIMAX Results                                      \n",
       "===========================================================================================\n",
       "Dep. Variable:                               77084   No. Observations:                   73\n",
       "Model:             SARIMAX(3, 2, 1)x(1, 1, [], 12)   Log Likelihood                -213.980\n",
       "Date:                             Thu, 12 Jan 2023   AIC                            439.960\n",
       "Time:                                     19:46:29   BIC                            452.425\n",
       "Sample:                                 03-31-2015   HQIC                           444.826\n",
       "                                      - 03-31-2021                                         \n",
       "Covariance Type:                               opg                                         \n",
       "==============================================================================\n",
       "                 coef    std err          z      P>|z|      [0.025      0.975]\n",
       "------------------------------------------------------------------------------\n",
       "ar.L1          0.1480      0.129      1.149      0.251      -0.104       0.400\n",
       "ar.L2          0.1987      0.129      1.546      0.122      -0.053       0.451\n",
       "ar.L3         -0.4302      0.128     -3.356      0.001      -0.681      -0.179\n",
       "ma.L1         -0.9997     19.781     -0.051      0.960     -39.771      37.771\n",
       "ar.S.L12      -0.4557      0.138     -3.295      0.001      -0.727      -0.185\n",
       "sigma2        71.8926   1420.353      0.051      0.960   -2711.948    2855.733\n",
       "===================================================================================\n",
       "Ljung-Box (L1) (Q):                   0.06   Jarque-Bera (JB):                 2.04\n",
       "Prob(Q):                              0.81   Prob(JB):                         0.36\n",
       "Heteroskedasticity (H):               1.03   Skew:                            -0.40\n",
       "Prob(H) (two-sided):                  0.94   Kurtosis:                         3.45\n",
       "===================================================================================\n",
       "\n",
       "Warnings:\n",
       "[1] Covariance matrix calculated using the outer product of gradients (complex-step).\n",
       "\"\"\""
      ]
     },
     "execution_count": 10,
     "metadata": {},
     "output_type": "execute_result"
    }
   ],
   "source": [
    "model=SARIMAX(train[\"77084\"],order=(3,2,1), seasonal_order=(1,1,0,12))\n",
    "model=model.fit()\n",
    "model.summary()"
   ]
  },
  {
   "cell_type": "code",
   "execution_count": 11,
   "id": "9339a7d4",
   "metadata": {},
   "outputs": [
    {
     "name": "stdout",
     "output_type": "stream",
     "text": [
      "Date\n",
      "2021-04-30    1393.767822\n",
      "2021-05-31    1401.598473\n",
      "2021-06-30    1403.332512\n",
      "2021-07-31    1406.081158\n",
      "2021-08-31    1406.225507\n",
      "2021-09-30    1409.110763\n",
      "2021-10-31    1406.506450\n",
      "2021-11-30    1407.611059\n",
      "2021-12-31    1411.237326\n",
      "2022-01-31    1417.002598\n",
      "2022-02-28    1426.867671\n",
      "2022-03-31    1435.591877\n",
      "2022-04-30    1444.412108\n",
      "2022-05-31    1449.336694\n",
      "2022-06-30    1451.954973\n",
      "2022-07-31    1454.532580\n",
      "2022-08-31    1456.270360\n",
      "2022-09-30    1461.270203\n",
      "2022-10-31    1459.256359\n",
      "2022-11-30    1461.487975\n",
      "Name: predicted_mean, dtype: float64\n"
     ]
    }
   ],
   "source": [
    "start=len(train)\n",
    "end=len(train)+len(test)-1\n",
    "pred=model.predict(start=start,end=end,type=\"levels\")\n",
    "#print(pred)\n",
    "pred.index=df.index[start:end+1] # To set the date value as an index\n",
    "print(pred) "
   ]
  },
  {
   "cell_type": "code",
   "execution_count": 12,
   "id": "44add823",
   "metadata": {
    "scrolled": false
   },
   "outputs": [
    {
     "data": {
      "text/plain": [
       "<AxesSubplot:xlabel='Date'>"
      ]
     },
     "execution_count": 12,
     "metadata": {},
     "output_type": "execute_result"
    },
    {
     "data": {
      "image/png": "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\n",
      "text/plain": [
       "<Figure size 640x480 with 1 Axes>"
      ]
     },
     "metadata": {},
     "output_type": "display_data"
    }
   ],
   "source": [
    "# print the prediction \n",
    "pred.plot(legend=True)\n",
    "test[\"77084\"].plot(legend=True)"
   ]
  },
  {
   "cell_type": "code",
   "execution_count": 13,
   "id": "d01e6b25",
   "metadata": {},
   "outputs": [
    {
     "data": {
      "text/plain": [
       "1585.6"
      ]
     },
     "execution_count": 13,
     "metadata": {},
     "output_type": "execute_result"
    }
   ],
   "source": [
    "test[\"77084\"].mean()"
   ]
  },
  {
   "cell_type": "code",
   "execution_count": 14,
   "id": "23b1777d",
   "metadata": {},
   "outputs": [
    {
     "name": "stdout",
     "output_type": "stream",
     "text": [
      "169.41627638834456\n"
     ]
    }
   ],
   "source": [
    "from sklearn.metrics import mean_squared_error\n",
    "from math import sqrt\n",
    "rmse=sqrt(mean_squared_error(pred,test[\"77084\"]))\n",
    "print(rmse)"
   ]
  },
  {
   "cell_type": "code",
   "execution_count": 15,
   "id": "1216469d",
   "metadata": {},
   "outputs": [
    {
     "data": {
      "text/html": [
       "<div>\n",
       "<style scoped>\n",
       "    .dataframe tbody tr th:only-of-type {\n",
       "        vertical-align: middle;\n",
       "    }\n",
       "\n",
       "    .dataframe tbody tr th {\n",
       "        vertical-align: top;\n",
       "    }\n",
       "\n",
       "    .dataframe thead th {\n",
       "        text-align: right;\n",
       "    }\n",
       "</style>\n",
       "<table border=\"1\" class=\"dataframe\">\n",
       "  <thead>\n",
       "    <tr style=\"text-align: right;\">\n",
       "      <th></th>\n",
       "      <th>77449</th>\n",
       "      <th>77494</th>\n",
       "      <th>11385</th>\n",
       "      <th>77084</th>\n",
       "      <th>11109</th>\n",
       "    </tr>\n",
       "    <tr>\n",
       "      <th>Date</th>\n",
       "      <th></th>\n",
       "      <th></th>\n",
       "      <th></th>\n",
       "      <th></th>\n",
       "      <th></th>\n",
       "    </tr>\n",
       "  </thead>\n",
       "  <tbody>\n",
       "    <tr>\n",
       "      <th>2022-07-31</th>\n",
       "      <td>1812.0</td>\n",
       "      <td>1989.0</td>\n",
       "      <td>3025.0</td>\n",
       "      <td>1685.0</td>\n",
       "      <td>4056.0</td>\n",
       "    </tr>\n",
       "    <tr>\n",
       "      <th>2022-08-31</th>\n",
       "      <td>1855.0</td>\n",
       "      <td>1999.0</td>\n",
       "      <td>3098.0</td>\n",
       "      <td>1667.0</td>\n",
       "      <td>4082.0</td>\n",
       "    </tr>\n",
       "    <tr>\n",
       "      <th>2022-09-30</th>\n",
       "      <td>1852.0</td>\n",
       "      <td>2004.0</td>\n",
       "      <td>3104.0</td>\n",
       "      <td>1651.0</td>\n",
       "      <td>4109.0</td>\n",
       "    </tr>\n",
       "    <tr>\n",
       "      <th>2022-10-31</th>\n",
       "      <td>1830.0</td>\n",
       "      <td>1982.0</td>\n",
       "      <td>3103.0</td>\n",
       "      <td>1636.0</td>\n",
       "      <td>4078.0</td>\n",
       "    </tr>\n",
       "    <tr>\n",
       "      <th>2022-11-30</th>\n",
       "      <td>1795.0</td>\n",
       "      <td>1963.0</td>\n",
       "      <td>3073.0</td>\n",
       "      <td>1652.0</td>\n",
       "      <td>4055.0</td>\n",
       "    </tr>\n",
       "  </tbody>\n",
       "</table>\n",
       "</div>"
      ],
      "text/plain": [
       "             77449   77494   11385   77084   11109\n",
       "Date                                              \n",
       "2022-07-31  1812.0  1989.0  3025.0  1685.0  4056.0\n",
       "2022-08-31  1855.0  1999.0  3098.0  1667.0  4082.0\n",
       "2022-09-30  1852.0  2004.0  3104.0  1651.0  4109.0\n",
       "2022-10-31  1830.0  1982.0  3103.0  1636.0  4078.0\n",
       "2022-11-30  1795.0  1963.0  3073.0  1652.0  4055.0"
      ]
     },
     "execution_count": 15,
     "metadata": {},
     "output_type": "execute_result"
    }
   ],
   "source": [
    "# Setting the whole dataset for trainning and looking for the end dates \n",
    "model2=SARIMAX(df[\"77084\"],order=(0,2,0),seasonal_order=(1,1,0,12))\n",
    "model2=model2.fit()\n",
    "df.tail()"
   ]
  },
  {
   "cell_type": "code",
   "execution_count": 16,
   "id": "8c28726a",
   "metadata": {},
   "outputs": [
    {
     "name": "stdout",
     "output_type": "stream",
     "text": [
      "2022-12-31    1675.372270\n",
      "2023-01-31    1705.213518\n",
      "2023-02-28    1726.151473\n",
      "2023-03-31    1734.875910\n",
      "2023-04-30    1762.344887\n",
      "2023-05-31    1796.875910\n",
      "2023-06-30    1844.406932\n",
      "2023-07-31    1891.255459\n",
      "2023-08-31    1919.738994\n",
      "2023-09-30    1946.001732\n",
      "2023-10-31    1951.691506\n",
      "2023-11-30    1975.249912\n",
      "2023-12-31    2008.819866\n",
      "2024-01-31    2048.638859\n",
      "2024-02-29    2076.695340\n",
      "2024-03-31    2087.479685\n",
      "2024-04-30    2122.287129\n",
      "2024-05-31    2164.596497\n",
      "2024-06-30    2219.905865\n",
      "2024-07-31    2269.694060\n",
      "2024-08-31    2291.439910\n",
      "2024-09-30    2312.944422\n",
      "2024-10-31    2323.993203\n",
      "2024-11-30    2359.068932\n",
      "2024-12-31    2402.918448\n",
      "2025-01-31    2453.120148\n",
      "2025-02-28    2492.900246\n",
      "2025-03-31    2517.780585\n",
      "2025-04-30    2564.208499\n",
      "2025-05-31    2617.932043\n",
      "2025-06-30    2684.655588\n",
      "Freq: M, Name: SARIMA PREDICTION, dtype: float64\n"
     ]
    }
   ],
   "source": [
    "# To set date range if not appears\n",
    "#index_future_dates= pd.date_range(start=\"2022-12-31\", end=\"2025-06-30\")\n",
    "# printing values for future date \n",
    "pred = model2.predict(start=len(df),end=len(df)+30,type=\"levels\").rename(\"SARIMA PREDICTION\")\n",
    "#pred = model2.predict(start=start,end=end+10,type=\"levels\").rename(\"SARIMA PREDICTION\")\n",
    "#pred.index=index_future_dates\n",
    "print(pred)"
   ]
  },
  {
   "cell_type": "code",
   "execution_count": 17,
   "id": "fd6206b5",
   "metadata": {},
   "outputs": [
    {
     "data": {
      "text/plain": [
       "<AxesSubplot:>"
      ]
     },
     "execution_count": 17,
     "metadata": {},
     "output_type": "execute_result"
    },
    {
     "data": {
      "image/png": "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\n",
      "text/plain": [
       "<Figure size 1200x500 with 1 Axes>"
      ]
     },
     "metadata": {},
     "output_type": "display_data"
    }
   ],
   "source": [
    "# Prnting the future prediction \n",
    "pred.plot(figsize=(12,5), legend=True)"
   ]
  },
  {
   "cell_type": "code",
   "execution_count": null,
   "id": "d78de94d",
   "metadata": {},
   "outputs": [],
   "source": []
  },
  {
<<<<<<< HEAD
   "cell_type": "markdown",
   "id": "06c1b857",
   "metadata": {},
   "source": [
    "## Auto Training for multiple Zip codes.\n"
   ]
  },
  {
   "cell_type": "code",
   "execution_count": 18,
   "id": "0ca2bb9d",
   "metadata": {},
   "outputs": [],
   "source": [
    "# List_Zip = [\"77449\",\"77494\",\"11385\",\"77084\",\"11109\"]\n",
    "list_zip = df.columns"
   ]
  },
  {
   "cell_type": "code",
   "execution_count": 19,
   "id": "a7ca37e9",
   "metadata": {},
   "outputs": [
    {
     "name": "stdout",
     "output_type": "stream",
     "text": [
      "Index(['77449', '77494', '11385', '77084', '11109'], dtype='object')\n"
     ]
    }
   ],
   "source": [
    "print(list_zip)"
   ]
  },
  {
   "cell_type": "code",
   "execution_count": 21,
   "id": "ec35c244",
   "metadata": {},
   "outputs": [
    {
     "data": {
      "text/plain": [
       "Date\n",
       "2015-03-31    1590.0\n",
       "2015-04-30    1592.0\n",
       "2015-05-31    1606.0\n",
       "2015-06-30    1614.0\n",
       "2015-07-31    1621.0\n",
       "               ...  \n",
       "2022-07-31    1989.0\n",
       "2022-08-31    1999.0\n",
       "2022-09-30    2004.0\n",
       "2022-10-31    1982.0\n",
       "2022-11-30    1963.0\n",
       "Name: 77494, Length: 93, dtype: float64"
      ]
     },
     "execution_count": 21,
     "metadata": {},
     "output_type": "execute_result"
    }
   ],
   "source": [
    "df[list_zip[1]]"
   ]
  },
  {
   "cell_type": "code",
   "execution_count": 35,
   "id": "c5de0245",
   "metadata": {},
   "outputs": [
    {
     "name": "stdout",
     "output_type": "stream",
     "text": [
      "Performing stepwise search to minimize aic\n",
      " ARIMA(2,2,2)(0,0,0)[0]             : AIC=inf, Time=0.13 sec\n",
      " ARIMA(0,2,0)(0,0,0)[0]             : AIC=720.772, Time=0.01 sec\n",
      " ARIMA(1,2,0)(0,0,0)[0]             : AIC=722.124, Time=0.02 sec\n",
      " ARIMA(0,2,1)(0,0,0)[0]             : AIC=721.972, Time=0.02 sec\n",
      " ARIMA(1,2,1)(0,0,0)[0]             : AIC=inf, Time=0.09 sec\n",
      " ARIMA(0,2,0)(0,0,0)[0] intercept   : AIC=722.604, Time=0.01 sec\n",
      "\n",
      "Best model:  ARIMA(0,2,0)(0,0,0)[0]          \n",
      "Total fit time: 0.289 seconds\n",
      "Performing stepwise search to minimize aic\n",
      " ARIMA(2,2,2)(0,0,0)[0]             : AIC=inf, Time=0.13 sec\n",
      " ARIMA(0,2,0)(0,0,0)[0]             : AIC=707.965, Time=0.01 sec\n",
      " ARIMA(1,2,0)(0,0,0)[0]             : AIC=704.907, Time=0.02 sec\n",
      " ARIMA(0,2,1)(0,0,0)[0]             : AIC=706.340, Time=0.03 sec\n",
      " ARIMA(2,2,0)(0,0,0)[0]             : AIC=701.388, Time=0.03 sec\n",
      " ARIMA(3,2,0)(0,0,0)[0]             : AIC=694.502, Time=0.03 sec\n",
      " ARIMA(4,2,0)(0,0,0)[0]             : AIC=692.512, Time=0.04 sec\n",
      " ARIMA(5,2,0)(0,0,0)[0]             : AIC=694.429, Time=0.05 sec\n",
      " ARIMA(4,2,1)(0,0,0)[0]             : AIC=692.928, Time=0.09 sec\n",
      " ARIMA(3,2,1)(0,0,0)[0]             : AIC=684.985, Time=0.07 sec\n",
      " ARIMA(2,2,1)(0,0,0)[0]             : AIC=700.521, Time=0.05 sec\n",
      " ARIMA(3,2,2)(0,0,0)[0]             : AIC=686.716, Time=0.07 sec\n",
      " ARIMA(4,2,2)(0,0,0)[0]             : AIC=688.634, Time=0.10 sec\n",
      " ARIMA(3,2,1)(0,0,0)[0] intercept   : AIC=inf, Time=0.17 sec\n",
      "\n",
      "Best model:  ARIMA(3,2,1)(0,0,0)[0]          \n",
      "Total fit time: 0.896 seconds\n",
      "Performing stepwise search to minimize aic\n",
      " ARIMA(2,1,2)(0,0,0)[0] intercept   : AIC=inf, Time=0.13 sec\n",
      " ARIMA(0,1,0)(0,0,0)[0] intercept   : AIC=866.778, Time=0.01 sec\n",
      " ARIMA(1,1,0)(0,0,0)[0] intercept   : AIC=825.034, Time=0.04 sec\n",
      " ARIMA(0,1,1)(0,0,0)[0] intercept   : AIC=844.930, Time=0.06 sec\n",
      " ARIMA(0,1,0)(0,0,0)[0]             : AIC=876.466, Time=0.02 sec\n",
      " ARIMA(2,1,0)(0,0,0)[0] intercept   : AIC=825.091, Time=0.06 sec\n",
      " ARIMA(1,1,1)(0,0,0)[0] intercept   : AIC=826.084, Time=0.05 sec\n",
      " ARIMA(2,1,1)(0,0,0)[0] intercept   : AIC=819.308, Time=0.08 sec\n",
      " ARIMA(3,1,1)(0,0,0)[0] intercept   : AIC=815.592, Time=0.12 sec\n",
      " ARIMA(3,1,0)(0,0,0)[0] intercept   : AIC=815.923, Time=0.07 sec\n",
      " ARIMA(4,1,1)(0,0,0)[0] intercept   : AIC=815.455, Time=0.10 sec\n",
      " ARIMA(4,1,0)(0,0,0)[0] intercept   : AIC=813.585, Time=0.09 sec\n",
      " ARIMA(5,1,0)(0,0,0)[0] intercept   : AIC=815.205, Time=0.09 sec\n",
      " ARIMA(5,1,1)(0,0,0)[0] intercept   : AIC=816.236, Time=0.16 sec\n",
      " ARIMA(4,1,0)(0,0,0)[0]             : AIC=814.033, Time=0.04 sec\n",
      "\n",
      "Best model:  ARIMA(4,1,0)(0,0,0)[0] intercept\n",
      "Total fit time: 1.148 seconds\n",
      "Performing stepwise search to minimize aic\n",
      " ARIMA(2,1,2)(0,0,0)[0] intercept   : AIC=inf, Time=0.10 sec\n",
      " ARIMA(0,1,0)(0,0,0)[0] intercept   : AIC=729.684, Time=0.02 sec\n",
      " ARIMA(1,1,0)(0,0,0)[0] intercept   : AIC=706.715, Time=0.04 sec\n",
      " ARIMA(0,1,1)(0,0,0)[0] intercept   : AIC=713.147, Time=0.04 sec\n",
      " ARIMA(0,1,0)(0,0,0)[0]             : AIC=741.357, Time=0.01 sec\n",
      " ARIMA(2,1,0)(0,0,0)[0] intercept   : AIC=708.408, Time=0.05 sec\n",
      " ARIMA(1,1,1)(0,0,0)[0] intercept   : AIC=708.577, Time=0.06 sec\n",
      " ARIMA(2,1,1)(0,0,0)[0] intercept   : AIC=709.019, Time=0.14 sec\n",
      " ARIMA(1,1,0)(0,0,0)[0]             : AIC=709.486, Time=0.03 sec\n",
      "\n",
      "Best model:  ARIMA(1,1,0)(0,0,0)[0] intercept\n",
      "Total fit time: 0.494 seconds\n",
      "Performing stepwise search to minimize aic\n",
      " ARIMA(2,1,2)(0,0,0)[0] intercept   : AIC=956.190, Time=0.24 sec\n",
      " ARIMA(0,1,0)(0,0,0)[0] intercept   : AIC=1035.845, Time=0.02 sec\n",
      " ARIMA(1,1,0)(0,0,0)[0] intercept   : AIC=989.186, Time=0.06 sec\n",
      " ARIMA(0,1,1)(0,0,0)[0] intercept   : AIC=1002.482, Time=0.08 sec\n",
      " ARIMA(0,1,0)(0,0,0)[0]             : AIC=1037.556, Time=0.02 sec\n",
      " ARIMA(1,1,2)(0,0,0)[0] intercept   : AIC=954.464, Time=0.19 sec\n",
      " ARIMA(0,1,2)(0,0,0)[0] intercept   : AIC=952.552, Time=0.07 sec\n",
      " ARIMA(0,1,3)(0,0,0)[0] intercept   : AIC=954.473, Time=0.14 sec\n",
      " ARIMA(1,1,1)(0,0,0)[0] intercept   : AIC=988.587, Time=0.08 sec\n",
      " ARIMA(1,1,3)(0,0,0)[0] intercept   : AIC=953.359, Time=0.21 sec\n",
      " ARIMA(0,1,2)(0,0,0)[0]             : AIC=951.651, Time=0.09 sec\n",
      " ARIMA(0,1,1)(0,0,0)[0]             : AIC=1002.953, Time=0.03 sec\n",
      " ARIMA(1,1,2)(0,0,0)[0]             : AIC=953.623, Time=0.25 sec\n",
      " ARIMA(0,1,3)(0,0,0)[0]             : AIC=953.626, Time=0.12 sec\n",
      " ARIMA(1,1,1)(0,0,0)[0]             : AIC=987.529, Time=0.05 sec\n",
      " ARIMA(1,1,3)(0,0,0)[0]             : AIC=954.909, Time=0.23 sec\n",
      "\n",
      "Best model:  ARIMA(0,1,2)(0,0,0)[0]          \n",
      "Total fit time: 1.902 seconds\n"
     ]
    }
   ],
   "source": [
    "train_data = {}\n",
    "test_data = {}\n",
    "models = {}\n",
    "for zip_code in list_zip:\n",
    "    data = df[zip_code]\n",
    "    train=data.iloc[:-20]\n",
    "    test=data.iloc[-20:]\n",
    "    stepwise_fit = auto_arima(data, trace=True,supress_warnings=True)\n",
    "    best_order = stepwise_fit.get_params()[\"order\"]\n",
    "    model=SARIMAX(train,order = best_order, seasonal_order=(1,1,0,12))\n",
    "    model=model.fit()\n",
    "    models[zip_code] = model\n",
    "    train_data[zip_code] = train\n",
    "    test_data[zip_code] = test"
   ]
  },
  {
   "cell_type": "code",
   "execution_count": 36,
   "id": "b214704c",
   "metadata": {},
   "outputs": [
    {
     "data": {
      "text/plain": [
       "{'77449': Date\n",
       " 2015-03-31    1274.0\n",
       " 2015-04-30    1288.0\n",
       " 2015-05-31    1295.0\n",
       " 2015-06-30    1308.0\n",
       " 2015-07-31    1317.0\n",
       "                ...  \n",
       " 2020-11-30    1459.0\n",
       " 2020-12-31    1481.0\n",
       " 2021-01-31    1493.0\n",
       " 2021-02-28    1499.0\n",
       " 2021-03-31    1511.0\n",
       " Name: 77449, Length: 73, dtype: float64,\n",
       " '77494': Date\n",
       " 2015-03-31    1590.0\n",
       " 2015-04-30    1592.0\n",
       " 2015-05-31    1606.0\n",
       " 2015-06-30    1614.0\n",
       " 2015-07-31    1621.0\n",
       "                ...  \n",
       " 2020-11-30    1639.0\n",
       " 2020-12-31    1634.0\n",
       " 2021-01-31    1640.0\n",
       " 2021-02-28    1629.0\n",
       " 2021-03-31    1634.0\n",
       " Name: 77494, Length: 73, dtype: float64,\n",
       " '11385': Date\n",
       " 2015-03-31    2182.0\n",
       " 2015-04-30    2223.0\n",
       " 2015-05-31    2249.0\n",
       " 2015-06-30    2272.0\n",
       " 2015-07-31    2281.0\n",
       "                ...  \n",
       " 2020-11-30    2420.0\n",
       " 2020-12-31    2418.0\n",
       " 2021-01-31    2417.0\n",
       " 2021-02-28    2409.0\n",
       " 2021-03-31    2380.0\n",
       " Name: 11385, Length: 73, dtype: float64,\n",
       " '77084': Date\n",
       " 2015-03-31    1192.0\n",
       " 2015-04-30    1205.0\n",
       " 2015-05-31    1207.0\n",
       " 2015-06-30    1214.0\n",
       " 2015-07-31    1216.0\n",
       "                ...  \n",
       " 2020-11-30    1357.0\n",
       " 2020-12-31    1360.0\n",
       " 2021-01-31    1370.0\n",
       " 2021-02-28    1378.0\n",
       " 2021-03-31    1386.0\n",
       " Name: 77084, Length: 73, dtype: float64,\n",
       " '11109': Date\n",
       " 2015-03-31    2824.0\n",
       " 2015-04-30    2881.0\n",
       " 2015-05-31    2935.0\n",
       " 2015-06-30    2951.0\n",
       " 2015-07-31    2964.0\n",
       "                ...  \n",
       " 2020-11-30    3103.0\n",
       " 2020-12-31    3225.0\n",
       " 2021-01-31    3193.0\n",
       " 2021-02-28    3102.0\n",
       " 2021-03-31    2938.0\n",
       " Name: 11109, Length: 73, dtype: float64}"
      ]
     },
     "execution_count": 36,
     "metadata": {},
     "output_type": "execute_result"
    }
   ],
   "source": [
    "\n",
    "#models[\"77494\"]\n",
    "train_data"
   ]
  },
  {
   "cell_type": "code",
   "execution_count": 48,
   "id": "f7d01d5b",
   "metadata": {},
   "outputs": [
    {
     "name": "stdout",
     "output_type": "stream",
     "text": [
      "Date\n",
      "2015-03-31    2824.0\n",
      "2015-04-30    2881.0\n",
      "2015-05-31    2935.0\n",
      "2015-06-30    2951.0\n",
      "2015-07-31    2964.0\n",
      "               ...  \n",
      "2020-11-30    3103.0\n",
      "2020-12-31    3225.0\n",
      "2021-01-31    3193.0\n",
      "2021-02-28    3102.0\n",
      "2021-03-31    2938.0\n",
      "Name: 11109, Length: 73, dtype: float64\n"
     ]
    }
   ],
   "source": [
    "print(train_data[\"11385\"])"
   ]
  },
  {
   "cell_type": "code",
   "execution_count": 53,
   "id": "fe3ad08d",
   "metadata": {},
   "outputs": [],
   "source": [
    "inputzip_code = \"11385\"\n",
    "start=len (train_data[inputzip_code])\n",
    "end=len(train_data[inputzip_code])+len(test_data[inputzip_code])-1\n",
    "pred=models[inputzip_code].predict(start=start,end=end,type=\"levels\")\n",
    "#print(pred)\n",
    "pred.index=df.index[start:end+1] # To set the date value as an index"
   ]
  },
  {
   "cell_type": "code",
   "execution_count": 54,
   "id": "dd94270a",
   "metadata": {},
   "outputs": [
    {
     "name": "stdout",
     "output_type": "stream",
     "text": [
      "Date\n",
      "2021-04-30    2362.179826\n",
      "2021-05-31    2362.161773\n",
      "2021-06-30    2365.935455\n",
      "2021-07-31    2369.960515\n",
      "2021-08-31    2359.992175\n",
      "2021-09-30    2352.115266\n",
      "2021-10-31    2335.752950\n",
      "2021-11-30    2323.860949\n",
      "2021-12-31    2322.585400\n",
      "2022-01-31    2313.381055\n",
      "2022-02-28    2306.425520\n",
      "2022-03-31    2296.186690\n",
      "2022-04-30    2292.289145\n",
      "2022-05-31    2309.423287\n",
      "2022-06-30    2299.328430\n",
      "2022-07-31    2296.853935\n",
      "2022-08-31    2260.479887\n",
      "2022-09-30    2246.158385\n",
      "2022-10-31    2218.695364\n",
      "2022-11-30    2184.159160\n",
      "Name: predicted_mean, dtype: float64\n"
     ]
    }
   ],
   "source": [
    "print(pred)"
   ]
  },
  {
   "cell_type": "code",
   "execution_count": 56,
   "id": "dfd21ac5",
   "metadata": {},
   "outputs": [
    {
     "name": "stdout",
     "output_type": "stream",
     "text": [
      "518.1254192633263\n"
     ]
    }
   ],
   "source": [
    "rmse=sqrt(mean_squared_error(pred,test_data[inputzip_code]))\n",
    "print(rmse)"
   ]
  },
  {
   "cell_type": "code",
   "execution_count": 62,
   "id": "0286e3ad",
   "metadata": {},
   "outputs": [],
   "source": [
    "# Saving models using pickles\n",
    "import pickle"
   ]
  },
  {
   "cell_type": "code",
   "execution_count": 63,
   "id": "6e797357",
   "metadata": {},
   "outputs": [],
   "source": [
    "for key, value in models.items():\n",
    "    pickle.dump(value, open(f'Models/{key}.pkl', 'wb'))"
   ]
  },
  {
   "cell_type": "code",
   "execution_count": 59,
   "id": "344a745e",
   "metadata": {},
   "outputs": [
    {
     "data": {
      "text/plain": [
       "{'77449': <statsmodels.tsa.statespace.sarimax.SARIMAXResultsWrapper at 0x1a4fe3ad348>,\n",
       " '77494': <statsmodels.tsa.statespace.sarimax.SARIMAXResultsWrapper at 0x1a4fe21cfc8>,\n",
       " '11385': <statsmodels.tsa.statespace.sarimax.SARIMAXResultsWrapper at 0x1a4fe349908>,\n",
       " '77084': <statsmodels.tsa.statespace.sarimax.SARIMAXResultsWrapper at 0x1a4fe280a48>,\n",
       " '11109': <statsmodels.tsa.statespace.sarimax.SARIMAXResultsWrapper at 0x1a4fd0b3488>}"
      ]
     },
     "execution_count": 59,
     "metadata": {},
     "output_type": "execute_result"
    }
   ],
   "source": [
    "models"
   ]
  },
  {
   "cell_type": "code",
   "execution_count": 64,
   "id": "90305feb",
   "metadata": {},
   "outputs": [],
   "source": [
    "pickled_model = pickle.load(open(f'Models/77449.pkl', 'rb'))"
   ]
  },
  {
   "cell_type": "code",
   "execution_count": 68,
   "id": "f4e3238d",
   "metadata": {},
   "outputs": [],
   "source": [
    "pred = pickled_model.predict(start=93,end=93+30,type=\"levels\").rename(\"SARIMA PREDICTION\")"
   ]
  },
  {
   "cell_type": "code",
   "execution_count": 69,
   "id": "fc47d6d0",
   "metadata": {},
   "outputs": [
    {
     "name": "stdout",
     "output_type": "stream",
     "text": [
      "2022-12-31    1762.638231\n",
      "2023-01-31    1780.716915\n",
      "2023-02-28    1795.112018\n",
      "2023-03-31    1814.580553\n",
      "2023-04-30    1831.443656\n",
      "2023-05-31    1840.095894\n",
      "2023-06-30    1856.447282\n",
      "2023-07-31    1876.263526\n",
      "2023-08-31    1900.454641\n",
      "2023-09-30    1914.876317\n",
      "2023-10-31    1927.391711\n",
      "2023-11-30    1944.953964\n",
      "2023-12-31    1966.656794\n",
      "2024-01-31    1987.148759\n",
      "2024-02-29    2006.523576\n",
      "2024-03-31    2029.945252\n",
      "2024-04-30    2049.293644\n",
      "2024-05-31    2057.495465\n",
      "2024-06-30    2076.169046\n",
      "2024-07-31    2097.818200\n",
      "2024-08-31    2129.061256\n",
      "2024-09-30    2146.783694\n",
      "2024-10-31    2163.904609\n",
      "2024-11-30    2186.724761\n",
      "2024-12-31    2215.642626\n",
      "2025-01-31    2240.413922\n",
      "2025-02-28    2262.437122\n",
      "2025-03-31    2289.159561\n",
      "2025-04-30    2312.741523\n",
      "2025-05-31    2327.042531\n",
      "2025-06-30    2350.053329\n",
      "Freq: M, Name: SARIMA PREDICTION, dtype: float64\n"
     ]
    }
   ],
   "source": [
    "print(pred)"
   ]
  },
  {
   "cell_type": "code",
   "execution_count": 67,
   "id": "b718e969",
   "metadata": {},
   "outputs": [
    {
     "name": "stdout",
     "output_type": "stream",
     "text": [
      "93\n"
     ]
    }
   ],
   "source": [
    "print(len(df))"
   ]
  },
  {
   "cell_type": "code",
   "execution_count": null,
   "id": "c2c70ef3",
=======
   "cell_type": "code",
   "execution_count": null,
   "id": "56e0787a",
>>>>>>> a0abfa6f11ef49808d1b4d1a0e60d252eb3533de
   "metadata": {},
   "outputs": [],
   "source": []
  }
 ],
 "metadata": {
  "kernelspec": {
   "display_name": "mlenv",
   "language": "python",
   "name": "mlenv"
  },
  "language_info": {
   "codemirror_mode": {
    "name": "ipython",
    "version": 3
   },
   "file_extension": ".py",
   "mimetype": "text/x-python",
   "name": "python",
   "nbconvert_exporter": "python",
   "pygments_lexer": "ipython3",
   "version": "3.7.15"
  }
 },
 "nbformat": 4,
 "nbformat_minor": 5
}
